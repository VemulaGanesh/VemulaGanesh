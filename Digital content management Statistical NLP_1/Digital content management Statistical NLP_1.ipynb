{
 "cells": [
  {
   "cell_type": "markdown",
   "metadata": {},
   "source": [
    "### Project_Summary\n",
    "\n",
    "**Domain: Digital content management**\n",
    "\n",
    "\n",
    "Over 600,000 posts from more than 19 thousand bloggers The Blog Authorship Corpus consists of the collected posts of 19,320 bloggers gathered from blogger.com in August 2004. The corpus incorporates a total of 681,288 posts and over 140 million words - or approximately 35 posts and 7250 words per person. Each blog is presented as a separate file, the name of which indicates a blogger id# and the blogger’s self-provided gender, age, industry, and astrological sign\n",
    "\n",
    "The purpose is to build an NLP classifier which can use input text parameters to determine the multiple features of the blog author\n",
    "\n",
    "Tasks performed:\n",
    "\n",
    "1. Importing and cleaning the data\n",
    "2. text preprocessing\n",
    "4. Design, train, tune and test the best NLP text classifier."
   ]
  },
  {
   "cell_type": "markdown",
   "metadata": {},
   "source": [
    "**Loading the libraries and dataset**"
   ]
  },
  {
   "cell_type": "code",
   "execution_count": 1,
   "metadata": {
    "_cell_guid": "b1076dfc-b9ad-4769-8c92-a6c4dae69d19",
    "_uuid": "8f2839f25d086af736a60e9eeb907d3b93b6e0e5",
    "execution": {
     "iopub.execute_input": "2021-10-18T03:13:46.971678Z",
     "iopub.status.busy": "2021-10-18T03:13:46.971368Z",
     "iopub.status.idle": "2021-10-18T03:13:46.977121Z",
     "shell.execute_reply": "2021-10-18T03:13:46.976090Z",
     "shell.execute_reply.started": "2021-10-18T03:13:46.971650Z"
    }
   },
   "outputs": [],
   "source": [
    "#Loading the libraries\n",
    "import numpy as np \n",
    "import pandas as pd \n",
    "import re \n",
    "import nltk\n",
    "import os\n",
    "from nltk.corpus import stopwords\n",
    "from sklearn.feature_extraction.text import CountVectorizer\n",
    "from sklearn.model_selection import train_test_split\n",
    "from sklearn.multiclass import OneVsRestClassifier\n",
    "from sklearn.linear_model import LogisticRegression\n",
    "import opendatasets as od"
   ]
  },
  {
   "cell_type": "code",
   "execution_count": 3,
   "metadata": {},
   "outputs": [
    {
     "name": "stdout",
     "output_type": "stream",
     "text": [
      "Please provide your Kaggle credentials to download this dataset. Learn more: http://bit.ly/kaggle-creds\n",
      "Your Kaggle username: vemulaganesh\n",
      "Your Kaggle Key: ········\n",
      "Downloading blog-authorship-corpus.zip to .\\blog-authorship-corpus\n"
     ]
    },
    {
     "name": "stderr",
     "output_type": "stream",
     "text": [
      "100%|███████████████████████████████████████████████████████████████████████████████| 290M/290M [03:32<00:00, 1.43MB/s]\n"
     ]
    },
    {
     "name": "stdout",
     "output_type": "stream",
     "text": [
      "\n"
     ]
    }
   ],
   "source": [
    "od.download(\"https://www.kaggle.com/rtatman/blog-authorship-corpus\")"
   ]
  },
  {
   "cell_type": "markdown",
   "metadata": {},
   "source": [
    "**Loading the dataset file**"
   ]
  },
  {
   "cell_type": "code",
   "execution_count": 6,
   "metadata": {
    "_cell_guid": "79c7e3d0-c299-4dcb-8224-4455121ee9b0",
    "_uuid": "d629ff2d2480ee46fbb7e2d37f6b5fab8052498a",
    "execution": {
     "iopub.execute_input": "2021-10-18T03:13:46.978622Z",
     "iopub.status.busy": "2021-10-18T03:13:46.978363Z",
     "iopub.status.idle": "2021-10-18T03:13:53.151835Z",
     "shell.execute_reply": "2021-10-18T03:13:53.150753Z",
     "shell.execute_reply.started": "2021-10-18T03:13:46.978571Z"
    }
   },
   "outputs": [],
   "source": [
    "data_set=pd.read_csv(r\".\\blog-authorship-corpus\\blogtext.csv\")"
   ]
  },
  {
   "cell_type": "markdown",
   "metadata": {},
   "source": [
    "## Analysing the data set"
   ]
  },
  {
   "cell_type": "code",
   "execution_count": 7,
   "metadata": {
    "execution": {
     "iopub.execute_input": "2021-10-18T03:13:53.154898Z",
     "iopub.status.busy": "2021-10-18T03:13:53.154522Z",
     "iopub.status.idle": "2021-10-18T03:13:53.171412Z",
     "shell.execute_reply": "2021-10-18T03:13:53.170340Z",
     "shell.execute_reply.started": "2021-10-18T03:13:53.154852Z"
    }
   },
   "outputs": [
    {
     "data": {
      "text/html": [
       "<div>\n",
       "<style scoped>\n",
       "    .dataframe tbody tr th:only-of-type {\n",
       "        vertical-align: middle;\n",
       "    }\n",
       "\n",
       "    .dataframe tbody tr th {\n",
       "        vertical-align: top;\n",
       "    }\n",
       "\n",
       "    .dataframe thead th {\n",
       "        text-align: right;\n",
       "    }\n",
       "</style>\n",
       "<table border=\"1\" class=\"dataframe\">\n",
       "  <thead>\n",
       "    <tr style=\"text-align: right;\">\n",
       "      <th></th>\n",
       "      <th>id</th>\n",
       "      <th>gender</th>\n",
       "      <th>age</th>\n",
       "      <th>topic</th>\n",
       "      <th>sign</th>\n",
       "      <th>date</th>\n",
       "      <th>text</th>\n",
       "    </tr>\n",
       "  </thead>\n",
       "  <tbody>\n",
       "    <tr>\n",
       "      <th>0</th>\n",
       "      <td>2059027</td>\n",
       "      <td>male</td>\n",
       "      <td>15</td>\n",
       "      <td>Student</td>\n",
       "      <td>Leo</td>\n",
       "      <td>14,May,2004</td>\n",
       "      <td>Info has been found (+/- 100 pages,...</td>\n",
       "    </tr>\n",
       "    <tr>\n",
       "      <th>1</th>\n",
       "      <td>2059027</td>\n",
       "      <td>male</td>\n",
       "      <td>15</td>\n",
       "      <td>Student</td>\n",
       "      <td>Leo</td>\n",
       "      <td>13,May,2004</td>\n",
       "      <td>These are the team members:   Drewe...</td>\n",
       "    </tr>\n",
       "    <tr>\n",
       "      <th>2</th>\n",
       "      <td>2059027</td>\n",
       "      <td>male</td>\n",
       "      <td>15</td>\n",
       "      <td>Student</td>\n",
       "      <td>Leo</td>\n",
       "      <td>12,May,2004</td>\n",
       "      <td>In het kader van kernfusie op aarde...</td>\n",
       "    </tr>\n",
       "    <tr>\n",
       "      <th>3</th>\n",
       "      <td>2059027</td>\n",
       "      <td>male</td>\n",
       "      <td>15</td>\n",
       "      <td>Student</td>\n",
       "      <td>Leo</td>\n",
       "      <td>12,May,2004</td>\n",
       "      <td>testing!!!  testing!!!</td>\n",
       "    </tr>\n",
       "    <tr>\n",
       "      <th>4</th>\n",
       "      <td>3581210</td>\n",
       "      <td>male</td>\n",
       "      <td>33</td>\n",
       "      <td>InvestmentBanking</td>\n",
       "      <td>Aquarius</td>\n",
       "      <td>11,June,2004</td>\n",
       "      <td>Thanks to Yahoo!'s Toolbar I can ...</td>\n",
       "    </tr>\n",
       "    <tr>\n",
       "      <th>5</th>\n",
       "      <td>3581210</td>\n",
       "      <td>male</td>\n",
       "      <td>33</td>\n",
       "      <td>InvestmentBanking</td>\n",
       "      <td>Aquarius</td>\n",
       "      <td>10,June,2004</td>\n",
       "      <td>I had an interesting conversation...</td>\n",
       "    </tr>\n",
       "    <tr>\n",
       "      <th>6</th>\n",
       "      <td>3581210</td>\n",
       "      <td>male</td>\n",
       "      <td>33</td>\n",
       "      <td>InvestmentBanking</td>\n",
       "      <td>Aquarius</td>\n",
       "      <td>10,June,2004</td>\n",
       "      <td>Somehow Coca-Cola has a way of su...</td>\n",
       "    </tr>\n",
       "    <tr>\n",
       "      <th>7</th>\n",
       "      <td>3581210</td>\n",
       "      <td>male</td>\n",
       "      <td>33</td>\n",
       "      <td>InvestmentBanking</td>\n",
       "      <td>Aquarius</td>\n",
       "      <td>10,June,2004</td>\n",
       "      <td>If anything, Korea is a country o...</td>\n",
       "    </tr>\n",
       "    <tr>\n",
       "      <th>8</th>\n",
       "      <td>3581210</td>\n",
       "      <td>male</td>\n",
       "      <td>33</td>\n",
       "      <td>InvestmentBanking</td>\n",
       "      <td>Aquarius</td>\n",
       "      <td>10,June,2004</td>\n",
       "      <td>Take a read of this news article ...</td>\n",
       "    </tr>\n",
       "    <tr>\n",
       "      <th>9</th>\n",
       "      <td>3581210</td>\n",
       "      <td>male</td>\n",
       "      <td>33</td>\n",
       "      <td>InvestmentBanking</td>\n",
       "      <td>Aquarius</td>\n",
       "      <td>09,June,2004</td>\n",
       "      <td>I surf the English news sites a l...</td>\n",
       "    </tr>\n",
       "  </tbody>\n",
       "</table>\n",
       "</div>"
      ],
      "text/plain": [
       "        id gender  age              topic      sign          date  \\\n",
       "0  2059027   male   15            Student       Leo   14,May,2004   \n",
       "1  2059027   male   15            Student       Leo   13,May,2004   \n",
       "2  2059027   male   15            Student       Leo   12,May,2004   \n",
       "3  2059027   male   15            Student       Leo   12,May,2004   \n",
       "4  3581210   male   33  InvestmentBanking  Aquarius  11,June,2004   \n",
       "5  3581210   male   33  InvestmentBanking  Aquarius  10,June,2004   \n",
       "6  3581210   male   33  InvestmentBanking  Aquarius  10,June,2004   \n",
       "7  3581210   male   33  InvestmentBanking  Aquarius  10,June,2004   \n",
       "8  3581210   male   33  InvestmentBanking  Aquarius  10,June,2004   \n",
       "9  3581210   male   33  InvestmentBanking  Aquarius  09,June,2004   \n",
       "\n",
       "                                                text  \n",
       "0             Info has been found (+/- 100 pages,...  \n",
       "1             These are the team members:   Drewe...  \n",
       "2             In het kader van kernfusie op aarde...  \n",
       "3                   testing!!!  testing!!!            \n",
       "4               Thanks to Yahoo!'s Toolbar I can ...  \n",
       "5               I had an interesting conversation...  \n",
       "6               Somehow Coca-Cola has a way of su...  \n",
       "7               If anything, Korea is a country o...  \n",
       "8               Take a read of this news article ...  \n",
       "9               I surf the English news sites a l...  "
      ]
     },
     "execution_count": 7,
     "metadata": {},
     "output_type": "execute_result"
    }
   ],
   "source": [
    "#Checking the first 10 rows\n",
    "data_set.head(10)"
   ]
  },
  {
   "cell_type": "code",
   "execution_count": 8,
   "metadata": {
    "execution": {
     "iopub.execute_input": "2021-10-18T03:13:53.173711Z",
     "iopub.status.busy": "2021-10-18T03:13:53.173461Z",
     "iopub.status.idle": "2021-10-18T03:13:53.374927Z",
     "shell.execute_reply": "2021-10-18T03:13:53.374191Z",
     "shell.execute_reply.started": "2021-10-18T03:13:53.173688Z"
    }
   },
   "outputs": [
    {
     "data": {
      "text/plain": [
       "id        False\n",
       "gender    False\n",
       "age       False\n",
       "topic     False\n",
       "sign      False\n",
       "date      False\n",
       "text      False\n",
       "dtype: bool"
      ]
     },
     "execution_count": 8,
     "metadata": {},
     "output_type": "execute_result"
    }
   ],
   "source": [
    "#Checking any null values present\n",
    "data_set.isna().any()"
   ]
  },
  {
   "cell_type": "markdown",
   "metadata": {},
   "source": [
    "There are no null values in the dataset"
   ]
  },
  {
   "cell_type": "code",
   "execution_count": 9,
   "metadata": {
    "execution": {
     "iopub.execute_input": "2021-10-18T03:13:53.376352Z",
     "iopub.status.busy": "2021-10-18T03:13:53.376070Z",
     "iopub.status.idle": "2021-10-18T03:13:53.389321Z",
     "shell.execute_reply": "2021-10-18T03:13:53.388017Z",
     "shell.execute_reply.started": "2021-10-18T03:13:53.376316Z"
    }
   },
   "outputs": [
    {
     "data": {
      "text/plain": [
       "(681284, 7)"
      ]
     },
     "execution_count": 9,
     "metadata": {},
     "output_type": "execute_result"
    }
   ],
   "source": [
    "data_set.shape"
   ]
  },
  {
   "cell_type": "markdown",
   "metadata": {},
   "source": [
    "There are 681284 rows (blogs) in this dataset, which is very large number. First we will do on a sample of 10000"
   ]
  },
  {
   "cell_type": "code",
   "execution_count": 10,
   "metadata": {
    "execution": {
     "iopub.execute_input": "2021-10-18T03:13:53.391333Z",
     "iopub.status.busy": "2021-10-18T03:13:53.390868Z",
     "iopub.status.idle": "2021-10-18T03:13:53.402645Z",
     "shell.execute_reply": "2021-10-18T03:13:53.401846Z",
     "shell.execute_reply.started": "2021-10-18T03:13:53.391306Z"
    }
   },
   "outputs": [],
   "source": [
    "data=data_set.head(10000)"
   ]
  },
  {
   "cell_type": "code",
   "execution_count": 11,
   "metadata": {
    "execution": {
     "iopub.execute_input": "2021-10-18T03:13:53.404605Z",
     "iopub.status.busy": "2021-10-18T03:13:53.404286Z",
     "iopub.status.idle": "2021-10-18T03:13:53.432174Z",
     "shell.execute_reply": "2021-10-18T03:13:53.430664Z",
     "shell.execute_reply.started": "2021-10-18T03:13:53.404557Z"
    }
   },
   "outputs": [
    {
     "name": "stdout",
     "output_type": "stream",
     "text": [
      "<class 'pandas.core.frame.DataFrame'>\n",
      "RangeIndex: 10000 entries, 0 to 9999\n",
      "Data columns (total 7 columns):\n",
      " #   Column  Non-Null Count  Dtype \n",
      "---  ------  --------------  ----- \n",
      " 0   id      10000 non-null  int64 \n",
      " 1   gender  10000 non-null  object\n",
      " 2   age     10000 non-null  int64 \n",
      " 3   topic   10000 non-null  object\n",
      " 4   sign    10000 non-null  object\n",
      " 5   date    10000 non-null  object\n",
      " 6   text    10000 non-null  object\n",
      "dtypes: int64(2), object(5)\n",
      "memory usage: 547.0+ KB\n"
     ]
    }
   ],
   "source": [
    "data.info()"
   ]
  },
  {
   "cell_type": "markdown",
   "metadata": {},
   "source": [
    "## Preprocessing the data"
   ]
  },
  {
   "cell_type": "markdown",
   "metadata": {},
   "source": [
    "**Dropping the columns which are not needed**"
   ]
  },
  {
   "cell_type": "markdown",
   "metadata": {},
   "source": [
    "Outputs are gender, age, topic and sign.\n",
    "There is no importance for id and date, so dropping those columns"
   ]
  },
  {
   "cell_type": "code",
   "execution_count": 12,
   "metadata": {
    "execution": {
     "iopub.execute_input": "2021-10-18T03:13:53.433877Z",
     "iopub.status.busy": "2021-10-18T03:13:53.433529Z",
     "iopub.status.idle": "2021-10-18T03:13:53.449124Z",
     "shell.execute_reply": "2021-10-18T03:13:53.447581Z",
     "shell.execute_reply.started": "2021-10-18T03:13:53.433847Z"
    }
   },
   "outputs": [
    {
     "name": "stderr",
     "output_type": "stream",
     "text": [
      "C:\\Users\\200488052\\.conda\\envs\\Tensorflow_sessions\\lib\\site-packages\\pandas\\core\\frame.py:4908: SettingWithCopyWarning: \n",
      "A value is trying to be set on a copy of a slice from a DataFrame\n",
      "\n",
      "See the caveats in the documentation: https://pandas.pydata.org/pandas-docs/stable/user_guide/indexing.html#returning-a-view-versus-a-copy\n",
      "  errors=errors,\n"
     ]
    }
   ],
   "source": [
    "data.drop(['id','date'], axis=1, inplace=True)"
   ]
  },
  {
   "cell_type": "markdown",
   "metadata": {},
   "source": [
    "Columns like ID and date are removed from the dateset as they do not provide much value"
   ]
  },
  {
   "cell_type": "code",
   "execution_count": 13,
   "metadata": {
    "execution": {
     "iopub.execute_input": "2021-10-18T03:13:53.452302Z",
     "iopub.status.busy": "2021-10-18T03:13:53.451276Z",
     "iopub.status.idle": "2021-10-18T03:13:53.469984Z",
     "shell.execute_reply": "2021-10-18T03:13:53.468999Z",
     "shell.execute_reply.started": "2021-10-18T03:13:53.452276Z"
    }
   },
   "outputs": [
    {
     "data": {
      "text/html": [
       "<div>\n",
       "<style scoped>\n",
       "    .dataframe tbody tr th:only-of-type {\n",
       "        vertical-align: middle;\n",
       "    }\n",
       "\n",
       "    .dataframe tbody tr th {\n",
       "        vertical-align: top;\n",
       "    }\n",
       "\n",
       "    .dataframe thead th {\n",
       "        text-align: right;\n",
       "    }\n",
       "</style>\n",
       "<table border=\"1\" class=\"dataframe\">\n",
       "  <thead>\n",
       "    <tr style=\"text-align: right;\">\n",
       "      <th></th>\n",
       "      <th>gender</th>\n",
       "      <th>age</th>\n",
       "      <th>topic</th>\n",
       "      <th>sign</th>\n",
       "      <th>text</th>\n",
       "    </tr>\n",
       "  </thead>\n",
       "  <tbody>\n",
       "    <tr>\n",
       "      <th>0</th>\n",
       "      <td>male</td>\n",
       "      <td>15</td>\n",
       "      <td>Student</td>\n",
       "      <td>Leo</td>\n",
       "      <td>Info has been found (+/- 100 pages,...</td>\n",
       "    </tr>\n",
       "    <tr>\n",
       "      <th>1</th>\n",
       "      <td>male</td>\n",
       "      <td>15</td>\n",
       "      <td>Student</td>\n",
       "      <td>Leo</td>\n",
       "      <td>These are the team members:   Drewe...</td>\n",
       "    </tr>\n",
       "    <tr>\n",
       "      <th>2</th>\n",
       "      <td>male</td>\n",
       "      <td>15</td>\n",
       "      <td>Student</td>\n",
       "      <td>Leo</td>\n",
       "      <td>In het kader van kernfusie op aarde...</td>\n",
       "    </tr>\n",
       "    <tr>\n",
       "      <th>3</th>\n",
       "      <td>male</td>\n",
       "      <td>15</td>\n",
       "      <td>Student</td>\n",
       "      <td>Leo</td>\n",
       "      <td>testing!!!  testing!!!</td>\n",
       "    </tr>\n",
       "    <tr>\n",
       "      <th>4</th>\n",
       "      <td>male</td>\n",
       "      <td>33</td>\n",
       "      <td>InvestmentBanking</td>\n",
       "      <td>Aquarius</td>\n",
       "      <td>Thanks to Yahoo!'s Toolbar I can ...</td>\n",
       "    </tr>\n",
       "  </tbody>\n",
       "</table>\n",
       "</div>"
      ],
      "text/plain": [
       "  gender  age              topic      sign  \\\n",
       "0   male   15            Student       Leo   \n",
       "1   male   15            Student       Leo   \n",
       "2   male   15            Student       Leo   \n",
       "3   male   15            Student       Leo   \n",
       "4   male   33  InvestmentBanking  Aquarius   \n",
       "\n",
       "                                                text  \n",
       "0             Info has been found (+/- 100 pages,...  \n",
       "1             These are the team members:   Drewe...  \n",
       "2             In het kader van kernfusie op aarde...  \n",
       "3                   testing!!!  testing!!!            \n",
       "4               Thanks to Yahoo!'s Toolbar I can ...  "
      ]
     },
     "execution_count": 13,
     "metadata": {},
     "output_type": "execute_result"
    }
   ],
   "source": [
    "data.head()"
   ]
  },
  {
   "cell_type": "markdown",
   "metadata": {},
   "source": [
    "**Text Cleaning**"
   ]
  },
  {
   "cell_type": "code",
   "execution_count": 14,
   "metadata": {
    "execution": {
     "iopub.execute_input": "2021-10-18T03:13:53.471804Z",
     "iopub.status.busy": "2021-10-18T03:13:53.471422Z",
     "iopub.status.idle": "2021-10-18T03:13:53.497994Z",
     "shell.execute_reply": "2021-10-18T03:13:53.496753Z",
     "shell.execute_reply.started": "2021-10-18T03:13:53.471764Z"
    }
   },
   "outputs": [
    {
     "name": "stderr",
     "output_type": "stream",
     "text": [
      "C:\\Users\\200488052\\.conda\\envs\\Tensorflow_sessions\\lib\\site-packages\\ipykernel_launcher.py:1: SettingWithCopyWarning: \n",
      "A value is trying to be set on a copy of a slice from a DataFrame.\n",
      "Try using .loc[row_indexer,col_indexer] = value instead\n",
      "\n",
      "See the caveats in the documentation: https://pandas.pydata.org/pandas-docs/stable/user_guide/indexing.html#returning-a-view-versus-a-copy\n",
      "  \"\"\"Entry point for launching an IPython kernel.\n"
     ]
    }
   ],
   "source": [
    "data['text_L']=data['text'].apply(lambda x: x.lower())"
   ]
  },
  {
   "cell_type": "markdown",
   "metadata": {},
   "source": [
    "Removing stop words before removing the punctuation marks because some stop words will have punctuation marks"
   ]
  },
  {
   "cell_type": "code",
   "execution_count": 15,
   "metadata": {
    "execution": {
     "iopub.execute_input": "2021-10-18T03:13:53.499280Z",
     "iopub.status.busy": "2021-10-18T03:13:53.499056Z",
     "iopub.status.idle": "2021-10-18T03:13:53.511644Z",
     "shell.execute_reply": "2021-10-18T03:13:53.510380Z",
     "shell.execute_reply.started": "2021-10-18T03:13:53.499256Z"
    }
   },
   "outputs": [],
   "source": [
    "stop_words = set(stopwords.words('english'))\n",
    "def drop_stopwords(text):\n",
    "    return \" \".join([word for word in str(text).split() if word not in stop_words])"
   ]
  },
  {
   "cell_type": "code",
   "execution_count": 16,
   "metadata": {
    "execution": {
     "iopub.execute_input": "2021-10-18T03:13:53.516388Z",
     "iopub.status.busy": "2021-10-18T03:13:53.516121Z",
     "iopub.status.idle": "2021-10-18T03:13:53.818294Z",
     "shell.execute_reply": "2021-10-18T03:13:53.817047Z",
     "shell.execute_reply.started": "2021-10-18T03:13:53.516361Z"
    }
   },
   "outputs": [
    {
     "name": "stderr",
     "output_type": "stream",
     "text": [
      "C:\\Users\\200488052\\.conda\\envs\\Tensorflow_sessions\\lib\\site-packages\\ipykernel_launcher.py:1: SettingWithCopyWarning: \n",
      "A value is trying to be set on a copy of a slice from a DataFrame.\n",
      "Try using .loc[row_indexer,col_indexer] = value instead\n",
      "\n",
      "See the caveats in the documentation: https://pandas.pydata.org/pandas-docs/stable/user_guide/indexing.html#returning-a-view-versus-a-copy\n",
      "  \"\"\"Entry point for launching an IPython kernel.\n"
     ]
    }
   ],
   "source": [
    "data[\"text_no_stop\"] = data[\"text_L\"].apply(lambda text : drop_stopwords(text))"
   ]
  },
  {
   "cell_type": "markdown",
   "metadata": {},
   "source": [
    "Removing any special characters other than alphabet letters"
   ]
  },
  {
   "cell_type": "code",
   "execution_count": 17,
   "metadata": {
    "execution": {
     "iopub.execute_input": "2021-10-18T03:13:53.819780Z",
     "iopub.status.busy": "2021-10-18T03:13:53.819538Z",
     "iopub.status.idle": "2021-10-18T03:13:54.119785Z",
     "shell.execute_reply": "2021-10-18T03:13:54.118959Z",
     "shell.execute_reply.started": "2021-10-18T03:13:53.819754Z"
    }
   },
   "outputs": [
    {
     "name": "stderr",
     "output_type": "stream",
     "text": [
      "C:\\Users\\200488052\\.conda\\envs\\Tensorflow_sessions\\lib\\site-packages\\ipykernel_launcher.py:1: SettingWithCopyWarning: \n",
      "A value is trying to be set on a copy of a slice from a DataFrame.\n",
      "Try using .loc[row_indexer,col_indexer] = value instead\n",
      "\n",
      "See the caveats in the documentation: https://pandas.pydata.org/pandas-docs/stable/user_guide/indexing.html#returning-a-view-versus-a-copy\n",
      "  \"\"\"Entry point for launching an IPython kernel.\n"
     ]
    }
   ],
   "source": [
    "data['only_text']=data['text_no_stop'].apply(lambda x: re.sub(r'[^a-z]+',' ',x))"
   ]
  },
  {
   "cell_type": "markdown",
   "metadata": {},
   "source": [
    "We are removing stop words again, why because after substituting special letters with ' ', some letters will be left out. For ex: i'm=>i m (m and i are stop words)"
   ]
  },
  {
   "cell_type": "code",
   "execution_count": 18,
   "metadata": {
    "execution": {
     "iopub.execute_input": "2021-10-18T03:13:54.121081Z",
     "iopub.status.busy": "2021-10-18T03:13:54.120863Z",
     "iopub.status.idle": "2021-10-18T03:13:54.432548Z",
     "shell.execute_reply": "2021-10-18T03:13:54.431355Z",
     "shell.execute_reply.started": "2021-10-18T03:13:54.121058Z"
    }
   },
   "outputs": [
    {
     "name": "stderr",
     "output_type": "stream",
     "text": [
      "C:\\Users\\200488052\\.conda\\envs\\Tensorflow_sessions\\lib\\site-packages\\ipykernel_launcher.py:1: SettingWithCopyWarning: \n",
      "A value is trying to be set on a copy of a slice from a DataFrame.\n",
      "Try using .loc[row_indexer,col_indexer] = value instead\n",
      "\n",
      "See the caveats in the documentation: https://pandas.pydata.org/pandas-docs/stable/user_guide/indexing.html#returning-a-view-versus-a-copy\n",
      "  \"\"\"Entry point for launching an IPython kernel.\n"
     ]
    }
   ],
   "source": [
    "data[\"text\"] = data[\"only_text\"].apply(lambda text : drop_stopwords(text))"
   ]
  },
  {
   "cell_type": "markdown",
   "metadata": {},
   "source": [
    "Removing extra spaces"
   ]
  },
  {
   "cell_type": "code",
   "execution_count": 19,
   "metadata": {
    "execution": {
     "iopub.execute_input": "2021-10-18T03:13:54.434102Z",
     "iopub.status.busy": "2021-10-18T03:13:54.433841Z",
     "iopub.status.idle": "2021-10-18T03:13:54.444423Z",
     "shell.execute_reply": "2021-10-18T03:13:54.443246Z",
     "shell.execute_reply.started": "2021-10-18T03:13:54.434074Z"
    }
   },
   "outputs": [
    {
     "name": "stderr",
     "output_type": "stream",
     "text": [
      "C:\\Users\\200488052\\.conda\\envs\\Tensorflow_sessions\\lib\\site-packages\\ipykernel_launcher.py:1: SettingWithCopyWarning: \n",
      "A value is trying to be set on a copy of a slice from a DataFrame.\n",
      "Try using .loc[row_indexer,col_indexer] = value instead\n",
      "\n",
      "See the caveats in the documentation: https://pandas.pydata.org/pandas-docs/stable/user_guide/indexing.html#returning-a-view-versus-a-copy\n",
      "  \"\"\"Entry point for launching an IPython kernel.\n"
     ]
    }
   ],
   "source": [
    "data[\"text\"]=data['text'].apply(lambda x: x.strip())"
   ]
  },
  {
   "cell_type": "markdown",
   "metadata": {},
   "source": [
    "This is needed as age is a number, multilabelbinalizer cannot consider integer as discrete values, so changing type to 'str'"
   ]
  },
  {
   "cell_type": "code",
   "execution_count": 20,
   "metadata": {
    "execution": {
     "iopub.execute_input": "2021-10-18T03:13:54.446340Z",
     "iopub.status.busy": "2021-10-18T03:13:54.445966Z",
     "iopub.status.idle": "2021-10-18T03:13:54.472175Z",
     "shell.execute_reply": "2021-10-18T03:13:54.470559Z",
     "shell.execute_reply.started": "2021-10-18T03:13:54.446301Z"
    }
   },
   "outputs": [
    {
     "name": "stderr",
     "output_type": "stream",
     "text": [
      "C:\\Users\\200488052\\.conda\\envs\\Tensorflow_sessions\\lib\\site-packages\\ipykernel_launcher.py:1: SettingWithCopyWarning: \n",
      "A value is trying to be set on a copy of a slice from a DataFrame.\n",
      "Try using .loc[row_indexer,col_indexer] = value instead\n",
      "\n",
      "See the caveats in the documentation: https://pandas.pydata.org/pandas-docs/stable/user_guide/indexing.html#returning-a-view-versus-a-copy\n",
      "  \"\"\"Entry point for launching an IPython kernel.\n"
     ]
    }
   ],
   "source": [
    "data['age']=data['age'].astype('str')"
   ]
  },
  {
   "cell_type": "code",
   "execution_count": 21,
   "metadata": {
    "execution": {
     "iopub.execute_input": "2021-10-18T03:13:54.473708Z",
     "iopub.status.busy": "2021-10-18T03:13:54.473475Z",
     "iopub.status.idle": "2021-10-18T03:13:54.497498Z",
     "shell.execute_reply": "2021-10-18T03:13:54.496251Z",
     "shell.execute_reply.started": "2021-10-18T03:13:54.473686Z"
    }
   },
   "outputs": [
    {
     "name": "stdout",
     "output_type": "stream",
     "text": [
      "<class 'pandas.core.frame.DataFrame'>\n",
      "RangeIndex: 10000 entries, 0 to 9999\n",
      "Data columns (total 8 columns):\n",
      " #   Column        Non-Null Count  Dtype \n",
      "---  ------        --------------  ----- \n",
      " 0   gender        10000 non-null  object\n",
      " 1   age           10000 non-null  object\n",
      " 2   topic         10000 non-null  object\n",
      " 3   sign          10000 non-null  object\n",
      " 4   text          10000 non-null  object\n",
      " 5   text_L        10000 non-null  object\n",
      " 6   text_no_stop  10000 non-null  object\n",
      " 7   only_text     10000 non-null  object\n",
      "dtypes: object(8)\n",
      "memory usage: 625.1+ KB\n"
     ]
    }
   ],
   "source": [
    "data.info()"
   ]
  },
  {
   "cell_type": "markdown",
   "metadata": {},
   "source": [
    "**Creating multiple label column**"
   ]
  },
  {
   "cell_type": "code",
   "execution_count": 22,
   "metadata": {
    "execution": {
     "iopub.execute_input": "2021-10-18T03:13:54.499101Z",
     "iopub.status.busy": "2021-10-18T03:13:54.498810Z",
     "iopub.status.idle": "2021-10-18T03:13:54.994295Z",
     "shell.execute_reply": "2021-10-18T03:13:54.993198Z",
     "shell.execute_reply.started": "2021-10-18T03:13:54.499077Z"
    }
   },
   "outputs": [
    {
     "name": "stderr",
     "output_type": "stream",
     "text": [
      "C:\\Users\\200488052\\.conda\\envs\\Tensorflow_sessions\\lib\\site-packages\\ipykernel_launcher.py:2: SettingWithCopyWarning: \n",
      "A value is trying to be set on a copy of a slice from a DataFrame.\n",
      "Try using .loc[row_indexer,col_indexer] = value instead\n",
      "\n",
      "See the caveats in the documentation: https://pandas.pydata.org/pandas-docs/stable/user_guide/indexing.html#returning-a-view-versus-a-copy\n",
      "  \n"
     ]
    }
   ],
   "source": [
    "#Output labels column is created by adding gender, age, topic and sign (These are to be predicted based on the text)\n",
    "data[\"labels\"] = data.apply(lambda row : [row[\"gender\"],row[\"age\"],row[\"topic\"],row[\"sign\"]],axis =1)"
   ]
  },
  {
   "cell_type": "code",
   "execution_count": 23,
   "metadata": {
    "execution": {
     "iopub.execute_input": "2021-10-18T03:13:54.995917Z",
     "iopub.status.busy": "2021-10-18T03:13:54.995573Z",
     "iopub.status.idle": "2021-10-18T03:13:55.010084Z",
     "shell.execute_reply": "2021-10-18T03:13:55.009004Z",
     "shell.execute_reply.started": "2021-10-18T03:13:54.995883Z"
    }
   },
   "outputs": [
    {
     "name": "stderr",
     "output_type": "stream",
     "text": [
      "C:\\Users\\200488052\\.conda\\envs\\Tensorflow_sessions\\lib\\site-packages\\pandas\\core\\frame.py:4908: SettingWithCopyWarning: \n",
      "A value is trying to be set on a copy of a slice from a DataFrame\n",
      "\n",
      "See the caveats in the documentation: https://pandas.pydata.org/pandas-docs/stable/user_guide/indexing.html#returning-a-view-versus-a-copy\n",
      "  errors=errors,\n"
     ]
    }
   ],
   "source": [
    "#Dropping gender, age, topic ,sign columns and also additionally created columns\n",
    "\n",
    "data.drop(columns=[\"gender\",\"age\",\"sign\",\"topic\",\"text_no_stop\",\"only_text\",\"text_L\"],axis =1, inplace = True)"
   ]
  },
  {
   "cell_type": "code",
   "execution_count": 24,
   "metadata": {
    "execution": {
     "iopub.execute_input": "2021-10-18T03:13:55.011674Z",
     "iopub.status.busy": "2021-10-18T03:13:55.011410Z",
     "iopub.status.idle": "2021-10-18T03:13:55.031334Z",
     "shell.execute_reply": "2021-10-18T03:13:55.030389Z",
     "shell.execute_reply.started": "2021-10-18T03:13:55.011648Z"
    }
   },
   "outputs": [
    {
     "data": {
      "text/html": [
       "<div>\n",
       "<style scoped>\n",
       "    .dataframe tbody tr th:only-of-type {\n",
       "        vertical-align: middle;\n",
       "    }\n",
       "\n",
       "    .dataframe tbody tr th {\n",
       "        vertical-align: top;\n",
       "    }\n",
       "\n",
       "    .dataframe thead th {\n",
       "        text-align: right;\n",
       "    }\n",
       "</style>\n",
       "<table border=\"1\" class=\"dataframe\">\n",
       "  <thead>\n",
       "    <tr style=\"text-align: right;\">\n",
       "      <th></th>\n",
       "      <th>text</th>\n",
       "      <th>labels</th>\n",
       "    </tr>\n",
       "  </thead>\n",
       "  <tbody>\n",
       "    <tr>\n",
       "      <th>0</th>\n",
       "      <td>info found pages mb pdf files wait untill team...</td>\n",
       "      <td>[male, 15, Student, Leo]</td>\n",
       "    </tr>\n",
       "    <tr>\n",
       "      <th>1</th>\n",
       "      <td>team members drewes van der laag urllink mail ...</td>\n",
       "      <td>[male, 15, Student, Leo]</td>\n",
       "    </tr>\n",
       "    <tr>\n",
       "      <th>2</th>\n",
       "      <td>het kader van kernfusie op aarde maak je eigen...</td>\n",
       "      <td>[male, 15, Student, Leo]</td>\n",
       "    </tr>\n",
       "    <tr>\n",
       "      <th>3</th>\n",
       "      <td>testing testing</td>\n",
       "      <td>[male, 15, Student, Leo]</td>\n",
       "    </tr>\n",
       "    <tr>\n",
       "      <th>4</th>\n",
       "      <td>thanks yahoo toolbar capture urls popups means...</td>\n",
       "      <td>[male, 33, InvestmentBanking, Aquarius]</td>\n",
       "    </tr>\n",
       "  </tbody>\n",
       "</table>\n",
       "</div>"
      ],
      "text/plain": [
       "                                                text  \\\n",
       "0  info found pages mb pdf files wait untill team...   \n",
       "1  team members drewes van der laag urllink mail ...   \n",
       "2  het kader van kernfusie op aarde maak je eigen...   \n",
       "3                                    testing testing   \n",
       "4  thanks yahoo toolbar capture urls popups means...   \n",
       "\n",
       "                                    labels  \n",
       "0                 [male, 15, Student, Leo]  \n",
       "1                 [male, 15, Student, Leo]  \n",
       "2                 [male, 15, Student, Leo]  \n",
       "3                 [male, 15, Student, Leo]  \n",
       "4  [male, 33, InvestmentBanking, Aquarius]  "
      ]
     },
     "execution_count": 24,
     "metadata": {},
     "output_type": "execute_result"
    }
   ],
   "source": [
    "data.head()"
   ]
  },
  {
   "cell_type": "markdown",
   "metadata": {},
   "source": [
    "Converted all the columns to object data-type"
   ]
  },
  {
   "cell_type": "markdown",
   "metadata": {},
   "source": [
    "## Splitting the data into X and Y"
   ]
  },
  {
   "cell_type": "code",
   "execution_count": 25,
   "metadata": {
    "execution": {
     "iopub.execute_input": "2021-10-18T03:13:55.032854Z",
     "iopub.status.busy": "2021-10-18T03:13:55.032649Z",
     "iopub.status.idle": "2021-10-18T03:13:55.049096Z",
     "shell.execute_reply": "2021-10-18T03:13:55.047914Z",
     "shell.execute_reply.started": "2021-10-18T03:13:55.032831Z"
    }
   },
   "outputs": [],
   "source": [
    "X=data['text']"
   ]
  },
  {
   "cell_type": "markdown",
   "metadata": {},
   "source": [
    "**Using count vectorizer to get the count vectors of the text**"
   ]
  },
  {
   "cell_type": "code",
   "execution_count": 26,
   "metadata": {
    "execution": {
     "iopub.execute_input": "2021-10-18T03:13:55.050701Z",
     "iopub.status.busy": "2021-10-18T03:13:55.050421Z",
     "iopub.status.idle": "2021-10-18T03:13:55.116732Z",
     "shell.execute_reply": "2021-10-18T03:13:55.115535Z",
     "shell.execute_reply.started": "2021-10-18T03:13:55.050673Z"
    }
   },
   "outputs": [],
   "source": [
    "vectorizer=CountVectorizer(binary=True, ngram_range=(1,2))"
   ]
  },
  {
   "cell_type": "code",
   "execution_count": 27,
   "metadata": {
    "execution": {
     "iopub.execute_input": "2021-10-18T03:13:55.118688Z",
     "iopub.status.busy": "2021-10-18T03:13:55.118238Z",
     "iopub.status.idle": "2021-10-18T03:13:59.559952Z",
     "shell.execute_reply": "2021-10-18T03:13:59.558757Z",
     "shell.execute_reply.started": "2021-10-18T03:13:55.118650Z"
    }
   },
   "outputs": [],
   "source": [
    "X=vectorizer.fit_transform(X)"
   ]
  },
  {
   "cell_type": "code",
   "execution_count": 28,
   "metadata": {
    "execution": {
     "iopub.execute_input": "2021-10-18T03:13:59.561496Z",
     "iopub.status.busy": "2021-10-18T03:13:59.561169Z",
     "iopub.status.idle": "2021-10-18T03:13:59.569229Z",
     "shell.execute_reply": "2021-10-18T03:13:59.567841Z",
     "shell.execute_reply.started": "2021-10-18T03:13:59.561460Z"
    }
   },
   "outputs": [
    {
     "data": {
      "text/plain": [
       "<1x643302 sparse matrix of type '<class 'numpy.int64'>'\n",
       "\twith 25 stored elements in Compressed Sparse Row format>"
      ]
     },
     "execution_count": 28,
     "metadata": {},
     "output_type": "execute_result"
    }
   ],
   "source": [
    "X[1]"
   ]
  },
  {
   "cell_type": "markdown",
   "metadata": {},
   "source": [
    "#### Checking some feature names"
   ]
  },
  {
   "cell_type": "code",
   "execution_count": 29,
   "metadata": {
    "execution": {
     "iopub.execute_input": "2021-10-18T03:13:59.570661Z",
     "iopub.status.busy": "2021-10-18T03:13:59.570371Z",
     "iopub.status.idle": "2021-10-18T03:14:00.445624Z",
     "shell.execute_reply": "2021-10-18T03:14:00.444365Z",
     "shell.execute_reply.started": "2021-10-18T03:13:59.570635Z"
    }
   },
   "outputs": [
    {
     "data": {
      "text/plain": [
       "['aa', 'aa amazing', 'aa anger', 'aa compared', 'aa keeps']"
      ]
     },
     "execution_count": 29,
     "metadata": {},
     "output_type": "execute_result"
    }
   ],
   "source": [
    "vectorizer.get_feature_names()[:5]"
   ]
  },
  {
   "cell_type": "markdown",
   "metadata": {},
   "source": [
    "**Getting the different unique label values present in the labels column**"
   ]
  },
  {
   "cell_type": "code",
   "execution_count": 30,
   "metadata": {
    "execution": {
     "iopub.execute_input": "2021-10-18T03:14:00.446899Z",
     "iopub.status.busy": "2021-10-18T03:14:00.446690Z",
     "iopub.status.idle": "2021-10-18T03:14:00.468817Z",
     "shell.execute_reply": "2021-10-18T03:14:00.467497Z",
     "shell.execute_reply.started": "2021-10-18T03:14:00.446876Z"
    }
   },
   "outputs": [],
   "source": [
    "label_list=[]\n",
    "\n",
    "for labels in data.labels.values:\n",
    "    for label in labels:\n",
    "        if label in label_list:\n",
    "            pass\n",
    "        else:\n",
    "            label_list.append(label)"
   ]
  },
  {
   "cell_type": "code",
   "execution_count": 31,
   "metadata": {
    "execution": {
     "iopub.execute_input": "2021-10-18T03:14:00.470556Z",
     "iopub.status.busy": "2021-10-18T03:14:00.470165Z",
     "iopub.status.idle": "2021-10-18T03:14:00.480051Z",
     "shell.execute_reply": "2021-10-18T03:14:00.479023Z",
     "shell.execute_reply.started": "2021-10-18T03:14:00.470521Z"
    }
   },
   "outputs": [
    {
     "data": {
      "text/plain": [
       "['13',\n",
       " '14',\n",
       " '15',\n",
       " '16',\n",
       " '17',\n",
       " '23',\n",
       " '24',\n",
       " '25',\n",
       " '26',\n",
       " '27',\n",
       " '33',\n",
       " '34',\n",
       " '35',\n",
       " '36',\n",
       " '37',\n",
       " '38',\n",
       " '39',\n",
       " '40',\n",
       " '41',\n",
       " '42',\n",
       " '43',\n",
       " '44',\n",
       " '45',\n",
       " '46',\n",
       " 'Accounting',\n",
       " 'Aquarius',\n",
       " 'Aries',\n",
       " 'Arts',\n",
       " 'Automotive',\n",
       " 'Banking',\n",
       " 'BusinessServices',\n",
       " 'Cancer',\n",
       " 'Capricorn',\n",
       " 'Communications-Media',\n",
       " 'Consulting',\n",
       " 'Education',\n",
       " 'Engineering',\n",
       " 'Fashion',\n",
       " 'Gemini',\n",
       " 'HumanResources',\n",
       " 'Internet',\n",
       " 'InvestmentBanking',\n",
       " 'Law',\n",
       " 'LawEnforcement-Security',\n",
       " 'Leo',\n",
       " 'Libra',\n",
       " 'Marketing',\n",
       " 'Museums-Libraries',\n",
       " 'Non-Profit',\n",
       " 'Pisces',\n",
       " 'Publishing',\n",
       " 'Religion',\n",
       " 'Sagittarius',\n",
       " 'Science',\n",
       " 'Scorpio',\n",
       " 'Sports-Recreation',\n",
       " 'Student',\n",
       " 'Taurus',\n",
       " 'Technology',\n",
       " 'Telecommunications',\n",
       " 'Virgo',\n",
       " 'female',\n",
       " 'indUnk',\n",
       " 'male']"
      ]
     },
     "execution_count": 31,
     "metadata": {},
     "output_type": "execute_result"
    }
   ],
   "source": [
    "sorted(label_list)"
   ]
  },
  {
   "cell_type": "markdown",
   "metadata": {},
   "source": [
    "**Pre-processing the labels**"
   ]
  },
  {
   "cell_type": "code",
   "execution_count": 32,
   "metadata": {
    "execution": {
     "iopub.execute_input": "2021-10-18T03:14:00.481475Z",
     "iopub.status.busy": "2021-10-18T03:14:00.481269Z",
     "iopub.status.idle": "2021-10-18T03:14:00.494774Z",
     "shell.execute_reply": "2021-10-18T03:14:00.493251Z",
     "shell.execute_reply.started": "2021-10-18T03:14:00.481452Z"
    }
   },
   "outputs": [],
   "source": [
    "from sklearn.preprocessing import MultiLabelBinarizer\n",
    "binarizer=MultiLabelBinarizer(classes=sorted(label_list))"
   ]
  },
  {
   "cell_type": "code",
   "execution_count": 33,
   "metadata": {
    "execution": {
     "iopub.execute_input": "2021-10-18T03:14:00.496788Z",
     "iopub.status.busy": "2021-10-18T03:14:00.496330Z",
     "iopub.status.idle": "2021-10-18T03:14:00.513110Z",
     "shell.execute_reply": "2021-10-18T03:14:00.511308Z",
     "shell.execute_reply.started": "2021-10-18T03:14:00.496749Z"
    }
   },
   "outputs": [
    {
     "data": {
      "text/plain": [
       "MultiLabelBinarizer(classes=['13', '14', '15', '16', '17', '23', '24', '25',\n",
       "                             '26', '27', '33', '34', '35', '36', '37', '38',\n",
       "                             '39', '40', '41', '42', '43', '44', '45', '46',\n",
       "                             'Accounting', 'Aquarius', 'Aries', 'Arts',\n",
       "                             'Automotive', 'Banking', ...])"
      ]
     },
     "execution_count": 33,
     "metadata": {},
     "output_type": "execute_result"
    }
   ],
   "source": [
    "binarizer"
   ]
  },
  {
   "cell_type": "code",
   "execution_count": 34,
   "metadata": {
    "execution": {
     "iopub.execute_input": "2021-10-18T03:14:00.514837Z",
     "iopub.status.busy": "2021-10-18T03:14:00.514475Z",
     "iopub.status.idle": "2021-10-18T03:14:00.546058Z",
     "shell.execute_reply": "2021-10-18T03:14:00.544284Z",
     "shell.execute_reply.started": "2021-10-18T03:14:00.514810Z"
    }
   },
   "outputs": [],
   "source": [
    "Y=binarizer.fit_transform(data.labels)"
   ]
  },
  {
   "cell_type": "code",
   "execution_count": 35,
   "metadata": {
    "execution": {
     "iopub.execute_input": "2021-10-18T03:14:00.547391Z",
     "iopub.status.busy": "2021-10-18T03:14:00.547083Z",
     "iopub.status.idle": "2021-10-18T03:14:00.553421Z",
     "shell.execute_reply": "2021-10-18T03:14:00.552573Z",
     "shell.execute_reply.started": "2021-10-18T03:14:00.547366Z"
    }
   },
   "outputs": [
    {
     "data": {
      "text/plain": [
       "array([[0, 0, 1, 0, 0, 0, 0, 0, 0, 0, 0, 0, 0, 0, 0, 0, 0, 0, 0, 0, 0, 0,\n",
       "        0, 0, 0, 0, 0, 0, 0, 0, 0, 0, 0, 0, 0, 0, 0, 0, 0, 0, 0, 0, 0, 0,\n",
       "        1, 0, 0, 0, 0, 0, 0, 0, 0, 0, 0, 0, 1, 0, 0, 0, 0, 0, 0, 1],\n",
       "       [0, 0, 1, 0, 0, 0, 0, 0, 0, 0, 0, 0, 0, 0, 0, 0, 0, 0, 0, 0, 0, 0,\n",
       "        0, 0, 0, 0, 0, 0, 0, 0, 0, 0, 0, 0, 0, 0, 0, 0, 0, 0, 0, 0, 0, 0,\n",
       "        1, 0, 0, 0, 0, 0, 0, 0, 0, 0, 0, 0, 1, 0, 0, 0, 0, 0, 0, 1],\n",
       "       [0, 0, 1, 0, 0, 0, 0, 0, 0, 0, 0, 0, 0, 0, 0, 0, 0, 0, 0, 0, 0, 0,\n",
       "        0, 0, 0, 0, 0, 0, 0, 0, 0, 0, 0, 0, 0, 0, 0, 0, 0, 0, 0, 0, 0, 0,\n",
       "        1, 0, 0, 0, 0, 0, 0, 0, 0, 0, 0, 0, 1, 0, 0, 0, 0, 0, 0, 1],\n",
       "       [0, 0, 1, 0, 0, 0, 0, 0, 0, 0, 0, 0, 0, 0, 0, 0, 0, 0, 0, 0, 0, 0,\n",
       "        0, 0, 0, 0, 0, 0, 0, 0, 0, 0, 0, 0, 0, 0, 0, 0, 0, 0, 0, 0, 0, 0,\n",
       "        1, 0, 0, 0, 0, 0, 0, 0, 0, 0, 0, 0, 1, 0, 0, 0, 0, 0, 0, 1],\n",
       "       [0, 0, 0, 0, 0, 0, 0, 0, 0, 0, 1, 0, 0, 0, 0, 0, 0, 0, 0, 0, 0, 0,\n",
       "        0, 0, 0, 1, 0, 0, 0, 0, 0, 0, 0, 0, 0, 0, 0, 0, 0, 0, 0, 1, 0, 0,\n",
       "        0, 0, 0, 0, 0, 0, 0, 0, 0, 0, 0, 0, 0, 0, 0, 0, 0, 0, 0, 1]])"
      ]
     },
     "execution_count": 35,
     "metadata": {},
     "output_type": "execute_result"
    }
   ],
   "source": [
    "Y[:5]"
   ]
  },
  {
   "cell_type": "markdown",
   "metadata": {},
   "source": [
    "**Splitting the data into 70% Train set :30% Test set**"
   ]
  },
  {
   "cell_type": "code",
   "execution_count": 36,
   "metadata": {
    "execution": {
     "iopub.execute_input": "2021-10-18T03:14:00.554699Z",
     "iopub.status.busy": "2021-10-18T03:14:00.554457Z",
     "iopub.status.idle": "2021-10-18T03:14:00.575308Z",
     "shell.execute_reply": "2021-10-18T03:14:00.574137Z",
     "shell.execute_reply.started": "2021-10-18T03:14:00.554675Z"
    }
   },
   "outputs": [],
   "source": [
    "X_train,X_test,y_train,y_test=train_test_split(X,Y,test_size=0.3)"
   ]
  },
  {
   "cell_type": "markdown",
   "metadata": {
    "execution": {
     "iopub.execute_input": "2021-10-18T02:13:28.082665Z",
     "iopub.status.busy": "2021-10-18T02:13:28.082420Z",
     "iopub.status.idle": "2021-10-18T02:13:28.100236Z",
     "shell.execute_reply": "2021-10-18T02:13:28.098895Z",
     "shell.execute_reply.started": "2021-10-18T02:13:28.082639Z"
    }
   },
   "source": []
  },
  {
   "cell_type": "markdown",
   "metadata": {},
   "source": [
    "## Fit the model"
   ]
  },
  {
   "cell_type": "code",
   "execution_count": 37,
   "metadata": {
    "execution": {
     "iopub.execute_input": "2021-10-18T03:14:00.576711Z",
     "iopub.status.busy": "2021-10-18T03:14:00.576480Z",
     "iopub.status.idle": "2021-10-18T03:14:00.584644Z",
     "shell.execute_reply": "2021-10-18T03:14:00.583801Z",
     "shell.execute_reply.started": "2021-10-18T03:14:00.576688Z"
    }
   },
   "outputs": [],
   "source": [
    "model=OneVsRestClassifier(LogisticRegression(solver='lbfgs'))"
   ]
  },
  {
   "cell_type": "code",
   "execution_count": 38,
   "metadata": {
    "execution": {
     "iopub.execute_input": "2021-10-18T03:14:00.586489Z",
     "iopub.status.busy": "2021-10-18T03:14:00.586202Z",
     "iopub.status.idle": "2021-10-18T03:16:55.953920Z",
     "shell.execute_reply": "2021-10-18T03:16:55.953107Z",
     "shell.execute_reply.started": "2021-10-18T03:14:00.586463Z"
    }
   },
   "outputs": [
    {
     "name": "stderr",
     "output_type": "stream",
     "text": [
      "C:\\Users\\200488052\\.conda\\envs\\Tensorflow_sessions\\lib\\site-packages\\sklearn\\multiclass.py:81: UserWarning: Label not 17 is present in all training examples.\n",
      "  str(classes[c]))\n"
     ]
    },
    {
     "data": {
      "text/plain": [
       "OneVsRestClassifier(estimator=LogisticRegression())"
      ]
     },
     "execution_count": 38,
     "metadata": {},
     "output_type": "execute_result"
    }
   ],
   "source": [
    "model.fit(X_train,y_train)"
   ]
  },
  {
   "cell_type": "code",
   "execution_count": 39,
   "metadata": {
    "execution": {
     "iopub.execute_input": "2021-10-18T03:16:55.955534Z",
     "iopub.status.busy": "2021-10-18T03:16:55.955215Z",
     "iopub.status.idle": "2021-10-18T03:16:56.120123Z",
     "shell.execute_reply": "2021-10-18T03:16:56.119443Z",
     "shell.execute_reply.started": "2021-10-18T03:16:55.955499Z"
    }
   },
   "outputs": [],
   "source": [
    "y_pred=model.predict(X_test)"
   ]
  },
  {
   "cell_type": "code",
   "execution_count": 40,
   "metadata": {
    "execution": {
     "iopub.execute_input": "2021-10-18T03:16:56.121393Z",
     "iopub.status.busy": "2021-10-18T03:16:56.121170Z",
     "iopub.status.idle": "2021-10-18T03:16:56.148539Z",
     "shell.execute_reply": "2021-10-18T03:16:56.147512Z",
     "shell.execute_reply.started": "2021-10-18T03:16:56.121367Z"
    }
   },
   "outputs": [],
   "source": [
    "y_pred_inversed = binarizer.inverse_transform(y_pred)\n",
    "y_test_inversed = binarizer.inverse_transform(y_test)"
   ]
  },
  {
   "cell_type": "markdown",
   "metadata": {},
   "source": [
    "**Checking predicted values against the actual values**"
   ]
  },
  {
   "cell_type": "code",
   "execution_count": 41,
   "metadata": {
    "execution": {
     "iopub.execute_input": "2021-10-18T03:16:56.149940Z",
     "iopub.status.busy": "2021-10-18T03:16:56.149722Z",
     "iopub.status.idle": "2021-10-18T03:16:56.160011Z",
     "shell.execute_reply": "2021-10-18T03:16:56.158799Z",
     "shell.execute_reply.started": "2021-10-18T03:16:56.149918Z"
    }
   },
   "outputs": [
    {
     "name": "stdout",
     "output_type": "stream",
     "text": [
      "Text:\t  (0, 450189)\t1\n",
      "  (0, 597026)\t1\n",
      "  (0, 229515)\t1\n",
      "  (0, 218079)\t1\n",
      "  (0, 222683)\t1\n",
      "  (0, 194964)\t1\n",
      "  (0, 528086)\t1\n",
      "  (0, 326192)\t1\n",
      "  (0, 215891)\t1\n",
      "  (0, 170072)\t1\n",
      "  (0, 442891)\t1\n",
      "  (0, 256867)\t1\n",
      "  (0, 937)\t1\n",
      "  (0, 558082)\t1\n",
      "  (0, 535731)\t1\n",
      "  (0, 419632)\t1\n",
      "  (0, 115987)\t1\n",
      "  (0, 172531)\t1\n",
      "  (0, 169199)\t1\n",
      "  (0, 613430)\t1\n",
      "  (0, 337957)\t1\n",
      "  (0, 616967)\t1\n",
      "  (0, 347567)\t1\n",
      "  (0, 212267)\t1\n",
      "  (0, 235189)\t1\n",
      "  :\t:\n",
      "  (0, 201371)\t1\n",
      "  (0, 294836)\t1\n",
      "  (0, 123994)\t1\n",
      "  (0, 625771)\t1\n",
      "  (0, 126559)\t1\n",
      "  (0, 285769)\t1\n",
      "  (0, 447290)\t1\n",
      "  (0, 511158)\t1\n",
      "  (0, 589047)\t1\n",
      "  (0, 347711)\t1\n",
      "  (0, 588064)\t1\n",
      "  (0, 201376)\t1\n",
      "  (0, 73080)\t1\n",
      "  (0, 169242)\t1\n",
      "  (0, 126556)\t1\n",
      "  (0, 250233)\t1\n",
      "  (0, 126551)\t1\n",
      "  (0, 138383)\t1\n",
      "  (0, 326275)\t1\n",
      "  (0, 427282)\t1\n",
      "  (0, 642358)\t1\n",
      "  (0, 339316)\t1\n",
      "  (0, 498419)\t1\n",
      "  (0, 428798)\t1\n",
      "  (0, 368286)\t1\n",
      "True labels:\t15,Student,Virgo,male\n",
      "Predicted labels:\t15,Student,Virgo,male\n",
      "\n",
      "\n",
      "Text:\t  (0, 13357)\t1\n",
      "  (0, 229515)\t1\n",
      "  (0, 246950)\t1\n",
      "  (0, 556303)\t1\n",
      "  (0, 559031)\t1\n",
      "  (0, 426777)\t1\n",
      "  (0, 143432)\t1\n",
      "  (0, 351436)\t1\n",
      "  (0, 480177)\t1\n",
      "  (0, 367467)\t1\n",
      "  (0, 318218)\t1\n",
      "  (0, 444324)\t1\n",
      "  (0, 424545)\t1\n",
      "  (0, 468956)\t1\n",
      "  (0, 367312)\t1\n",
      "  (0, 446055)\t1\n",
      "  (0, 73030)\t1\n",
      "  (0, 356038)\t1\n",
      "  (0, 482961)\t1\n",
      "  (0, 144376)\t1\n",
      "  (0, 351592)\t1\n",
      "  (0, 367324)\t1\n",
      "  (0, 444345)\t1\n",
      "  (0, 531521)\t1\n",
      "  (0, 427164)\t1\n",
      "  (0, 482989)\t1\n",
      "  (0, 424552)\t1\n",
      "  (0, 230531)\t1\n",
      "  (0, 480178)\t1\n",
      "  (0, 13632)\t1\n",
      "  (0, 559642)\t1\n",
      "  (0, 468970)\t1\n",
      "  (0, 531522)\t1\n",
      "  (0, 367500)\t1\n",
      "  (0, 356043)\t1\n",
      "  (0, 446063)\t1\n",
      "  (0, 73034)\t1\n",
      "  (0, 247228)\t1\n",
      "  (0, 367320)\t1\n",
      "  (0, 318350)\t1\n",
      "  (0, 446083)\t1\n",
      "  (0, 556569)\t1\n",
      "  (0, 143440)\t1\n",
      "True labels:\t34,Sagittarius,female,indUnk\n",
      "Predicted labels:\t34,Sagittarius,female,indUnk\n",
      "\n",
      "\n",
      "Text:\t  (0, 528429)\t1\n",
      "  (0, 578469)\t1\n",
      "  (0, 412619)\t1\n",
      "  (0, 632385)\t1\n",
      "  (0, 477858)\t1\n",
      "  (0, 334172)\t1\n",
      "  (0, 403052)\t1\n",
      "  (0, 546404)\t1\n",
      "  (0, 310781)\t1\n",
      "  (0, 168872)\t1\n",
      "  (0, 275407)\t1\n",
      "  (0, 173722)\t1\n",
      "  (0, 323022)\t1\n",
      "  (0, 357996)\t1\n",
      "  (0, 397489)\t1\n",
      "  (0, 305863)\t1\n",
      "  (0, 69764)\t1\n",
      "  (0, 305039)\t1\n",
      "  (0, 56963)\t1\n",
      "  (0, 191609)\t1\n",
      "  (0, 403343)\t1\n",
      "  (0, 311353)\t1\n",
      "  (0, 633380)\t1\n",
      "  (0, 546757)\t1\n",
      "  (0, 334760)\t1\n",
      "  :\t:\n",
      "  (0, 146115)\t1\n",
      "  (0, 537636)\t1\n",
      "  (0, 292010)\t1\n",
      "  (0, 200657)\t1\n",
      "  (0, 358074)\t1\n",
      "  (0, 191665)\t1\n",
      "  (0, 292011)\t1\n",
      "  (0, 200658)\t1\n",
      "  (0, 168893)\t1\n",
      "  (0, 537637)\t1\n",
      "  (0, 168874)\t1\n",
      "  (0, 69771)\t1\n",
      "  (0, 56973)\t1\n",
      "  (0, 323278)\t1\n",
      "  (0, 289991)\t1\n",
      "  (0, 475839)\t1\n",
      "  (0, 478789)\t1\n",
      "  (0, 528462)\t1\n",
      "  (0, 146119)\t1\n",
      "  (0, 305947)\t1\n",
      "  (0, 174066)\t1\n",
      "  (0, 397604)\t1\n",
      "  (0, 275698)\t1\n",
      "  (0, 578541)\t1\n",
      "  (0, 305129)\t1\n",
      "True labels:\t26,Education,Libra,male\n",
      "Predicted labels:\tmale\n",
      "\n",
      "\n",
      "Text:\t  (0, 312628)\t1\n",
      "  (0, 366182)\t1\n",
      "  (0, 356083)\t1\n",
      "  (0, 117927)\t1\n",
      "  (0, 256777)\t1\n",
      "  (0, 256785)\t1\n",
      "  (0, 537969)\t1\n",
      "  (0, 13692)\t1\n",
      "  (0, 538237)\t1\n",
      "  (0, 284059)\t1\n",
      "  (0, 138780)\t1\n",
      "  (0, 4882)\t1\n",
      "  (0, 118019)\t1\n",
      "  (0, 356276)\t1\n",
      "  (0, 366558)\t1\n",
      "  (0, 538034)\t1\n",
      "  (0, 312657)\t1\n",
      "  (0, 4883)\t1\n",
      "  (0, 356367)\t1\n",
      "  (0, 538240)\t1\n",
      "  (0, 13712)\t1\n",
      "  (0, 138812)\t1\n",
      "True labels:\t14,Scorpio,indUnk,male\n",
      "Predicted labels:\tAries,male\n",
      "\n",
      "\n",
      "Text:\t  (0, 203034)\t1\n",
      "  (0, 128843)\t1\n",
      "  (0, 312628)\t1\n",
      "  (0, 209373)\t1\n",
      "  (0, 319058)\t1\n",
      "  (0, 77281)\t1\n",
      "  (0, 607406)\t1\n",
      "  (0, 541965)\t1\n",
      "  (0, 89360)\t1\n",
      "  (0, 450189)\t1\n",
      "  (0, 113776)\t1\n",
      "  (0, 293921)\t1\n",
      "  (0, 131554)\t1\n",
      "  (0, 199958)\t1\n",
      "  (0, 111337)\t1\n",
      "  (0, 493961)\t1\n",
      "  (0, 632385)\t1\n",
      "  (0, 183118)\t1\n",
      "  (0, 329658)\t1\n",
      "  (0, 529247)\t1\n",
      "  (0, 334172)\t1\n",
      "  (0, 630587)\t1\n",
      "  (0, 567161)\t1\n",
      "  (0, 388230)\t1\n",
      "  (0, 332005)\t1\n",
      "  :\t:\n",
      "  (0, 494114)\t1\n",
      "  (0, 530724)\t1\n",
      "  (0, 219916)\t1\n",
      "  (0, 567620)\t1\n",
      "  (0, 164014)\t1\n",
      "  (0, 450627)\t1\n",
      "  (0, 211396)\t1\n",
      "  (0, 168447)\t1\n",
      "  (0, 143238)\t1\n",
      "  (0, 433550)\t1\n",
      "  (0, 307281)\t1\n",
      "  (0, 158948)\t1\n",
      "  (0, 415844)\t1\n",
      "  (0, 89393)\t1\n",
      "  (0, 196502)\t1\n",
      "  (0, 206148)\t1\n",
      "  (0, 222726)\t1\n",
      "  (0, 363784)\t1\n",
      "  (0, 184001)\t1\n",
      "  (0, 366659)\t1\n",
      "  (0, 312252)\t1\n",
      "  (0, 280909)\t1\n",
      "  (0, 150230)\t1\n",
      "  (0, 465423)\t1\n",
      "  (0, 140905)\t1\n",
      "True labels:\t27,Aquarius,Education,female\n",
      "Predicted labels:\tfemale\n",
      "\n",
      "\n"
     ]
    }
   ],
   "source": [
    "for i in range(5):\n",
    "    print('Text:\\t{}\\nTrue labels:\\t{}\\nPredicted labels:\\t{}\\n\\n'.format(\n",
    "        X_test[i],\n",
    "        ','.join(y_test_inversed[i]),\n",
    "        ','.join(y_pred_inversed[i])\n",
    "    ))"
   ]
  },
  {
   "cell_type": "markdown",
   "metadata": {},
   "source": [
    "## Evaluation metrics"
   ]
  },
  {
   "cell_type": "code",
   "execution_count": 42,
   "metadata": {
    "execution": {
     "iopub.execute_input": "2021-10-18T03:16:56.161153Z",
     "iopub.status.busy": "2021-10-18T03:16:56.160944Z",
     "iopub.status.idle": "2021-10-18T03:16:56.171606Z",
     "shell.execute_reply": "2021-10-18T03:16:56.170841Z",
     "shell.execute_reply.started": "2021-10-18T03:16:56.161131Z"
    }
   },
   "outputs": [],
   "source": [
    "from sklearn.metrics import accuracy_score\n",
    "from sklearn.metrics import f1_score\n",
    "from sklearn.metrics import average_precision_score\n",
    "from sklearn.metrics import recall_score\n",
    "\n",
    "def print_evaluation_scores(Ytest, Ypred):\n",
    "    print('Accuracy score: ', accuracy_score(Ytest, Ypred))\n",
    "    print('F1 score: ', f1_score(Ytest, Ypred, average='micro'))\n",
    "    print('Average precision score: ', average_precision_score(Ytest, Ypred, average='micro'))\n",
    "    print('Average recall score: ', recall_score(Ytest, Ypred, average='micro'))"
   ]
  },
  {
   "cell_type": "code",
   "execution_count": 43,
   "metadata": {
    "execution": {
     "iopub.execute_input": "2021-10-18T03:16:56.173250Z",
     "iopub.status.busy": "2021-10-18T03:16:56.172952Z",
     "iopub.status.idle": "2021-10-18T03:16:56.252379Z",
     "shell.execute_reply": "2021-10-18T03:16:56.251615Z",
     "shell.execute_reply.started": "2021-10-18T03:16:56.173219Z"
    }
   },
   "outputs": [
    {
     "name": "stdout",
     "output_type": "stream",
     "text": [
      "Accuracy score:  0.306\n",
      "F1 score:  0.6392772422147075\n",
      "Average precision score:  0.45729506311596063\n",
      "Average recall score:  0.52775\n"
     ]
    }
   ],
   "source": [
    "print_evaluation_scores(y_test, y_pred)"
   ]
  }
 ],
 "metadata": {
  "kernelspec": {
   "display_name": "Python 3",
   "language": "python",
   "name": "python3"
  },
  "language_info": {
   "codemirror_mode": {
    "name": "ipython",
    "version": 3
   },
   "file_extension": ".py",
   "mimetype": "text/x-python",
   "name": "python",
   "nbconvert_exporter": "python",
   "pygments_lexer": "ipython3",
   "version": "3.7.10"
  }
 },
 "nbformat": 4,
 "nbformat_minor": 4
}
