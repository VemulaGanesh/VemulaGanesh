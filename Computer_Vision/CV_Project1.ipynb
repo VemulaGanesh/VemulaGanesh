{
 "cells": [
  {
   "cell_type": "markdown",
   "metadata": {},
   "source": [
    "## COMPUTER VISION PROJECT1"
   ]
  },
  {
   "cell_type": "markdown",
   "metadata": {
    "id": "KVBfBsqkIEaK"
   },
   "source": [
    "**Because of Colabs RAM size, all cells are not executed at once.**"
   ]
  },
  {
   "cell_type": "code",
   "execution_count": 1,
   "metadata": {
    "colab": {
     "base_uri": "https://localhost:8080/",
     "height": 35
    },
    "id": "toStquolK0Pj",
    "outputId": "74371adc-a6f5-470b-d2a3-3613c6a67199"
   },
   "outputs": [
    {
     "data": {
      "application/vnd.google.colaboratory.intrinsic+json": {
       "type": "string"
      },
      "text/plain": [
       "'2.6.0'"
      ]
     },
     "execution_count": 1,
     "metadata": {},
     "output_type": "execute_result"
    }
   ],
   "source": [
    "%tensorflow_version 2.x\n",
    "import tensorflow\n",
    "tensorflow.__version__"
   ]
  },
  {
   "cell_type": "code",
   "execution_count": 2,
   "metadata": {
    "id": "cugl0oSfLKW7"
   },
   "outputs": [],
   "source": [
    "#import the random seed generator\n",
    "import random\n",
    "random.seed(0)\n",
    "\n",
    "#ignore the warnings\n",
    "import warnings\n",
    "warnings.filterwarnings('ignore')"
   ]
  },
  {
   "cell_type": "code",
   "execution_count": 3,
   "metadata": {
    "colab": {
     "base_uri": "https://localhost:8080/"
    },
    "id": "EI8fSd5Laykm",
    "outputId": "a0428c2e-7461-4ada-b0e2-cbf68d2bbccd"
   },
   "outputs": [
    {
     "name": "stdout",
     "output_type": "stream",
     "text": [
      "Mounted at /content/gdrive\n"
     ]
    }
   ],
   "source": [
    "from google.colab import drive\n",
    "drive.mount('/content/gdrive')"
   ]
  },
  {
   "cell_type": "code",
   "execution_count": 1,
   "metadata": {
    "id": "r50vVKAUL5UY"
   },
   "outputs": [],
   "source": [
    "#Importing the required libraries\n",
    "import numpy as np\n",
    "import pandas as pd\n",
    "import cv2\n",
    "import glob\n",
    "import matplotlib.pyplot as plt\n",
    "%matplotlib inline\n",
    "from sklearn.model_selection import train_test_split\n",
    "import pickle"
   ]
  },
  {
   "cell_type": "code",
   "execution_count": 5,
   "metadata": {
    "colab": {
     "base_uri": "https://localhost:8080/"
    },
    "id": "_UGWsz63bsFx",
    "outputId": "b58f0746-2735-4c3b-8ac4-5103bb1f0aac"
   },
   "outputs": [
    {
     "name": "stdout",
     "output_type": "stream",
     "text": [
      "['Black-grass', 'Charlock', 'Cleavers', 'Common Chickweed', 'Common wheat', 'Fat Hen', 'Loose Silky-bent', 'Maize', 'Scentless Mayweed', 'Shepherds Purse', 'Small-flowered Cranesbill', 'Sugar beet']\n"
     ]
    }
   ],
   "source": [
    "#importing the os library and getting the input folders in the given path\n",
    "import os\n",
    "Input_path='/content/gdrive/MyDrive/Colab Notebooks/CV_Notebooks/Part-1 - Plant Seedling Classification Data/train'\n",
    "label_folders=os.listdir(Input_path)\n",
    "print(label_folders)"
   ]
  },
  {
   "cell_type": "markdown",
   "metadata": {
    "id": "fbRAzuc2gzd6"
   },
   "source": [
    "Total there are 12 folders of 12 different seedling types. All images from the folders have to be considered"
   ]
  },
  {
   "cell_type": "code",
   "execution_count": 34,
   "metadata": {
    "id": "uQGRj48PlMne"
   },
   "outputs": [],
   "source": [
    "#The resized image rows and columns\n",
    "img_rows=128\n",
    "img_cols=128"
   ]
  },
  {
   "cell_type": "markdown",
   "metadata": {
    "id": "YPbF0WsDwhyb"
   },
   "source": [
    "**Resizing of each image and storing into array**"
   ]
  },
  {
   "cell_type": "code",
   "execution_count": 7,
   "metadata": {
    "id": "qu-VkGFHhSnq"
   },
   "outputs": [],
   "source": [
    "#array to store the features and labels of images in the folders\n",
    "x_y_features=[]\n",
    "\n",
    "for label_folder in label_folders:\n",
    "  folder_path=os.path.join(Input_path,label_folder)\n",
    "  for img_path in glob.glob(os.path.join(folder_path,\"*.png\")):\n",
    "    image=cv2.imread(img_path,cv2.IMREAD_COLOR)\n",
    "    image_resized=cv2.resize(image,(img_rows,img_cols))\n",
    "    x_y_features.append([image_resized,label_folder])"
   ]
  },
  {
   "cell_type": "markdown",
   "metadata": {
    "id": "M2-VJfC_wqjv"
   },
   "source": [
    "Pickling the features to avoid loss of data"
   ]
  },
  {
   "cell_type": "code",
   "execution_count": 8,
   "metadata": {
    "colab": {
     "base_uri": "https://localhost:8080/"
    },
    "id": "2jgA4JbOutoU",
    "outputId": "87d2103d-4492-4a0e-8b25-3cb6516498b0"
   },
   "outputs": [
    {
     "data": {
      "text/plain": [
       "<function BufferedWriter.close>"
      ]
     },
     "execution_count": 8,
     "metadata": {},
     "output_type": "execute_result"
    }
   ],
   "source": [
    "import pickle\n",
    "pickle_data=open('image_data.pkl','wb')\n",
    "pickle.dump(x_y_features,pickle_data)\n",
    "pickle_data.close"
   ]
  },
  {
   "cell_type": "code",
   "execution_count": 9,
   "metadata": {
    "colab": {
     "base_uri": "https://localhost:8080/"
    },
    "id": "uxFS2P4GvZzo",
    "outputId": "4923bf0c-68e5-4da7-ba9a-9e30b1a40374"
   },
   "outputs": [
    {
     "data": {
      "text/plain": [
       "[array([[[ 24,  47,  77],\n",
       "         [ 33,  54,  81],\n",
       "         [ 45,  66,  89],\n",
       "         ...,\n",
       "         [ 55,  78,  88],\n",
       "         [ 60,  86,  94],\n",
       "         [ 52,  83,  90]],\n",
       " \n",
       "        [[ 21,  46,  79],\n",
       "         [ 36,  57,  86],\n",
       "         [ 46,  66,  90],\n",
       "         ...,\n",
       "         [ 59,  77,  88],\n",
       "         [ 62,  81,  92],\n",
       "         [ 57,  77,  89]],\n",
       " \n",
       "        [[ 24,  49,  82],\n",
       "         [ 31,  54,  84],\n",
       "         [ 50,  69,  95],\n",
       "         ...,\n",
       "         [ 57,  72,  84],\n",
       "         [ 58,  72,  85],\n",
       "         [ 61,  77,  89]],\n",
       " \n",
       "        ...,\n",
       " \n",
       "        [[155, 149, 143],\n",
       "         [156, 150, 144],\n",
       "         [154, 149, 143],\n",
       "         ...,\n",
       "         [142, 136, 132],\n",
       "         [ 97,  92,  91],\n",
       "         [ 67,  61,  67]],\n",
       " \n",
       "        [[155, 149, 142],\n",
       "         [156, 150, 142],\n",
       "         [152, 147, 141],\n",
       "         ...,\n",
       "         [140, 135, 130],\n",
       "         [ 93,  87,  87],\n",
       "         [ 60,  54,  59]],\n",
       " \n",
       "        [[156, 149, 142],\n",
       "         [155, 149, 141],\n",
       "         [153, 147, 139],\n",
       "         ...,\n",
       "         [140, 133, 129],\n",
       "         [ 91,  85,  84],\n",
       "         [ 64,  58,  62]]], dtype=uint8), 'Black-grass']"
      ]
     },
     "execution_count": 9,
     "metadata": {},
     "output_type": "execute_result"
    }
   ],
   "source": [
    "x_y_features[0]"
   ]
  },
  {
   "cell_type": "markdown",
   "metadata": {
    "id": "WnEU9ifZxfai"
   },
   "source": [
    "The below code is commented and to use only colab connection is lost"
   ]
  },
  {
   "cell_type": "code",
   "execution_count": 2,
   "metadata": {
    "colab": {
     "base_uri": "https://localhost:8080/"
    },
    "id": "UdwLxeea0byW",
    "outputId": "df1fbfce-92b1-4da4-9f59-b4808b43d2bc"
   },
   "outputs": [
    {
     "data": {
      "text/plain": [
       "<function BufferedReader.close>"
      ]
     },
     "execution_count": 2,
     "metadata": {},
     "output_type": "execute_result"
    }
   ],
   "source": [
    "unpickle_data=open('image_data.pkl','rb')\n",
    "img_unpickle=pickle.load(unpickle_data)\n",
    "unpickle_data.close"
   ]
  },
  {
   "cell_type": "code",
   "execution_count": 3,
   "metadata": {
    "id": "udMbkbd81tGB"
   },
   "outputs": [],
   "source": [
    "x_y_features=img_unpickle"
   ]
  },
  {
   "cell_type": "markdown",
   "metadata": {
    "id": "Hg6Pn0kwx6UL"
   },
   "source": [
    "Checking the total number of samples and shuffling the data"
   ]
  },
  {
   "cell_type": "code",
   "execution_count": 4,
   "metadata": {
    "colab": {
     "base_uri": "https://localhost:8080/"
    },
    "id": "Hv_RrjfK3P4r",
    "outputId": "bea249f5-e851-4344-b4f9-d2026ace16a0"
   },
   "outputs": [
    {
     "data": {
      "text/plain": [
       "4767"
      ]
     },
     "execution_count": 4,
     "metadata": {},
     "output_type": "execute_result"
    }
   ],
   "source": [
    "len(x_y_features)"
   ]
  },
  {
   "cell_type": "code",
   "execution_count": 5,
   "metadata": {
    "id": "SaEdHUrV-DJW"
   },
   "outputs": [],
   "source": [
    "import random\n",
    "random.seed(0)\n",
    "random.shuffle(x_y_features)"
   ]
  },
  {
   "cell_type": "code",
   "execution_count": 67,
   "metadata": {
    "colab": {
     "base_uri": "https://localhost:8080/"
    },
    "id": "Asu_MoRb-Pff",
    "outputId": "a7e0e48f-a655-4d43-814c-2c20a8197b31"
   },
   "outputs": [
    {
     "data": {
      "text/plain": [
       "[[array([[[ 44,  62,  84],\n",
       "          [ 54,  76,  92],\n",
       "          [ 34,  72,  79],\n",
       "          ...,\n",
       "          [ 67,  80,  96],\n",
       "          [ 86,  99, 109],\n",
       "          [ 88, 103, 114]],\n",
       "  \n",
       "         [[ 60,  75,  95],\n",
       "          [ 80, 100, 111],\n",
       "          [ 20,  81,  70],\n",
       "          ...,\n",
       "          [ 63,  78,  97],\n",
       "          [ 62,  75,  92],\n",
       "          [ 35,  49,  67]],\n",
       "  \n",
       "         [[ 50,  71,  89],\n",
       "          [ 35,  74,  75],\n",
       "          [ 30,  88,  75],\n",
       "          ...,\n",
       "          [ 93, 108, 119],\n",
       "          [ 64,  80,  98],\n",
       "          [ 70,  90, 103]],\n",
       "  \n",
       "         ...,\n",
       "  \n",
       "         [[102,  95,  99],\n",
       "          [ 84,  79,  85],\n",
       "          [ 92,  85,  89],\n",
       "          ...,\n",
       "          [ 54,  51,  58],\n",
       "          [ 52,  49,  56],\n",
       "          [ 49,  47,  53]],\n",
       "  \n",
       "         [[105, 101, 107],\n",
       "          [106,  99, 105],\n",
       "          [110, 104, 110],\n",
       "          ...,\n",
       "          [ 52,  48,  55],\n",
       "          [ 54,  47,  52],\n",
       "          [ 54,  50,  56]],\n",
       "  \n",
       "         [[ 80,  71,  77],\n",
       "          [111, 105, 115],\n",
       "          [120, 116, 122],\n",
       "          ...,\n",
       "          [ 52,  50,  56],\n",
       "          [ 51,  46,  54],\n",
       "          [ 53,  49,  57]]], dtype=uint8), 'Sugar beet'],\n",
       " [array([[[ 61,  66,  78],\n",
       "          [ 50,  55,  66],\n",
       "          [ 52,  57,  66],\n",
       "          ...,\n",
       "          [ 66,  68,  79],\n",
       "          [ 58,  60,  70],\n",
       "          [ 65,  67,  74]],\n",
       "  \n",
       "         [[ 48,  53,  65],\n",
       "          [ 54,  59,  71],\n",
       "          [ 60,  64,  75],\n",
       "          ...,\n",
       "          [ 71,  68,  75],\n",
       "          [ 72,  72,  79],\n",
       "          [ 65,  68,  76]],\n",
       "  \n",
       "         [[ 54,  56,  65],\n",
       "          [ 53,  58,  70],\n",
       "          [ 59,  61,  73],\n",
       "          ...,\n",
       "          [ 72,  71,  76],\n",
       "          [ 70,  71,  79],\n",
       "          [ 69,  70,  79]],\n",
       "  \n",
       "         ...,\n",
       "  \n",
       "         [[ 46,  70,  84],\n",
       "          [ 53,  78,  95],\n",
       "          [ 47,  75,  94],\n",
       "          ...,\n",
       "          [ 56,  66,  77],\n",
       "          [ 64,  76,  88],\n",
       "          [ 60,  75,  93]],\n",
       "  \n",
       "         [[ 49,  71,  87],\n",
       "          [ 47,  73,  92],\n",
       "          [ 55,  84, 103],\n",
       "          ...,\n",
       "          [ 38,  50,  67],\n",
       "          [ 57,  71,  85],\n",
       "          [ 50,  67,  88]],\n",
       "  \n",
       "         [[ 48,  69,  88],\n",
       "          [ 52,  77,  97],\n",
       "          [ 53,  84, 103],\n",
       "          ...,\n",
       "          [ 22,  31,  56],\n",
       "          [ 45,  63,  82],\n",
       "          [ 44,  66,  89]]], dtype=uint8), 'Charlock']]"
      ]
     },
     "execution_count": 67,
     "metadata": {},
     "output_type": "execute_result"
    }
   ],
   "source": [
    "x_y_features[0:2]"
   ]
  },
  {
   "cell_type": "code",
   "execution_count": 6,
   "metadata": {
    "id": "dyHFC-BQ_6Ly"
   },
   "outputs": [],
   "source": [
    "image_data=pd.DataFrame(x_y_features,columns=['image','label'])"
   ]
  },
  {
   "cell_type": "code",
   "execution_count": 7,
   "metadata": {
    "id": "HnCn6fwUmA7R"
   },
   "outputs": [],
   "source": [
    "#Deleting the not needed data to clear memory\n",
    "del(x_y_features)"
   ]
  },
  {
   "cell_type": "code",
   "execution_count": 70,
   "metadata": {
    "colab": {
     "base_uri": "https://localhost:8080/",
     "height": 202
    },
    "id": "IMCy_tVWAHd1",
    "outputId": "941fceed-7472-4e40-c37a-96724be07e06"
   },
   "outputs": [
    {
     "data": {
      "text/html": [
       "<div>\n",
       "<style scoped>\n",
       "    .dataframe tbody tr th:only-of-type {\n",
       "        vertical-align: middle;\n",
       "    }\n",
       "\n",
       "    .dataframe tbody tr th {\n",
       "        vertical-align: top;\n",
       "    }\n",
       "\n",
       "    .dataframe thead th {\n",
       "        text-align: right;\n",
       "    }\n",
       "</style>\n",
       "<table border=\"1\" class=\"dataframe\">\n",
       "  <thead>\n",
       "    <tr style=\"text-align: right;\">\n",
       "      <th></th>\n",
       "      <th>image</th>\n",
       "      <th>label</th>\n",
       "    </tr>\n",
       "  </thead>\n",
       "  <tbody>\n",
       "    <tr>\n",
       "      <th>0</th>\n",
       "      <td>[[[44, 62, 84], [54, 76, 92], [34, 72, 79], [1...</td>\n",
       "      <td>Sugar beet</td>\n",
       "    </tr>\n",
       "    <tr>\n",
       "      <th>1</th>\n",
       "      <td>[[[61, 66, 78], [50, 55, 66], [52, 57, 66], [5...</td>\n",
       "      <td>Charlock</td>\n",
       "    </tr>\n",
       "    <tr>\n",
       "      <th>2</th>\n",
       "      <td>[[[197, 189, 184], [199, 192, 186], [197, 190,...</td>\n",
       "      <td>Fat Hen</td>\n",
       "    </tr>\n",
       "    <tr>\n",
       "      <th>3</th>\n",
       "      <td>[[[162, 160, 155], [162, 158, 153], [169, 162,...</td>\n",
       "      <td>Small-flowered Cranesbill</td>\n",
       "    </tr>\n",
       "    <tr>\n",
       "      <th>4</th>\n",
       "      <td>[[[51, 68, 85], [50, 67, 85], [54, 68, 85], [5...</td>\n",
       "      <td>Small-flowered Cranesbill</td>\n",
       "    </tr>\n",
       "  </tbody>\n",
       "</table>\n",
       "</div>"
      ],
      "text/plain": [
       "                                               image                      label\n",
       "0  [[[44, 62, 84], [54, 76, 92], [34, 72, 79], [1...                 Sugar beet\n",
       "1  [[[61, 66, 78], [50, 55, 66], [52, 57, 66], [5...                   Charlock\n",
       "2  [[[197, 189, 184], [199, 192, 186], [197, 190,...                    Fat Hen\n",
       "3  [[[162, 160, 155], [162, 158, 153], [169, 162,...  Small-flowered Cranesbill\n",
       "4  [[[51, 68, 85], [50, 67, 85], [54, 68, 85], [5...  Small-flowered Cranesbill"
      ]
     },
     "execution_count": 70,
     "metadata": {},
     "output_type": "execute_result"
    }
   ],
   "source": [
    "image_data.head()"
   ]
  },
  {
   "cell_type": "code",
   "execution_count": 8,
   "metadata": {
    "id": "w5gM8CoUF1t9"
   },
   "outputs": [],
   "source": [
    "X_raw=np.array(image_data.image)\n",
    "y_raw=image_data.label"
   ]
  },
  {
   "cell_type": "code",
   "execution_count": 9,
   "metadata": {
    "id": "P2hd32C9mKfu"
   },
   "outputs": [],
   "source": [
    "del(image_data)"
   ]
  },
  {
   "cell_type": "code",
   "execution_count": 10,
   "metadata": {
    "colab": {
     "base_uri": "https://localhost:8080/"
    },
    "id": "i68J1-B_F-XM",
    "outputId": "438b011a-dc43-41b2-eea1-d0303c9e74fb"
   },
   "outputs": [
    {
     "data": {
      "text/plain": [
       "(128, 128, 3)"
      ]
     },
     "execution_count": 10,
     "metadata": {},
     "output_type": "execute_result"
    }
   ],
   "source": [
    "X_raw[0].shape"
   ]
  },
  {
   "cell_type": "markdown",
   "metadata": {
    "id": "4kP3lA3FyM2j"
   },
   "source": [
    "**Normalizing the data**"
   ]
  },
  {
   "cell_type": "code",
   "execution_count": 11,
   "metadata": {
    "id": "3VluBRVxUlsy"
   },
   "outputs": [],
   "source": [
    "X_raw /= 255.0"
   ]
  },
  {
   "cell_type": "code",
   "execution_count": 12,
   "metadata": {
    "colab": {
     "base_uri": "https://localhost:8080/"
    },
    "id": "MROhXAQKVJTy",
    "outputId": "1a8c89d2-1ef5-4abe-bc0a-d396de94c071"
   },
   "outputs": [
    {
     "data": {
      "text/plain": [
       "(128, 128, 3)"
      ]
     },
     "execution_count": 12,
     "metadata": {},
     "output_type": "execute_result"
    }
   ],
   "source": [
    "X_raw[0].shape"
   ]
  },
  {
   "cell_type": "markdown",
   "metadata": {
    "id": "3DN54ZmPySs_"
   },
   "source": [
    "**Label encoding the output values**"
   ]
  },
  {
   "cell_type": "code",
   "execution_count": 13,
   "metadata": {
    "colab": {
     "base_uri": "https://localhost:8080/"
    },
    "id": "R6e6zF-HG0bS",
    "outputId": "9ab72c1e-4ea0-467b-a24d-6d07053437de"
   },
   "outputs": [
    {
     "name": "stdout",
     "output_type": "stream",
     "text": [
      "[11  1  5 ...  1  8  8]\n"
     ]
    }
   ],
   "source": [
    "from sklearn.preprocessing import LabelEncoder\n",
    "label_encode=LabelEncoder()\n",
    "seed_encoded=label_encode.fit_transform(y_raw)\n",
    "Label_values=pd.DataFrame(seed_encoded,columns=['encoded_value'])\n",
    "Label_values['labels']=y_raw\n",
    "print(seed_encoded)"
   ]
  },
  {
   "cell_type": "code",
   "execution_count": 14,
   "metadata": {
    "id": "2zlOmjqErXfG"
   },
   "outputs": [],
   "source": [
    "seed_encoded=np.array(seed_encoded)\n",
    "y_raw=np.array(y_raw)"
   ]
  },
  {
   "cell_type": "code",
   "execution_count": 15,
   "metadata": {
    "id": "9W86sEPGlK_x"
   },
   "outputs": [],
   "source": [
    "Label_values.drop_duplicates('labels',inplace=True)"
   ]
  },
  {
   "cell_type": "code",
   "execution_count": 16,
   "metadata": {
    "colab": {
     "base_uri": "https://localhost:8080/",
     "height": 416
    },
    "id": "W34Si4bbmBql",
    "outputId": "87e0f9e3-6cc0-48de-a899-e68361d1cbbc"
   },
   "outputs": [
    {
     "data": {
      "text/html": [
       "<div>\n",
       "<style scoped>\n",
       "    .dataframe tbody tr th:only-of-type {\n",
       "        vertical-align: middle;\n",
       "    }\n",
       "\n",
       "    .dataframe tbody tr th {\n",
       "        vertical-align: top;\n",
       "    }\n",
       "\n",
       "    .dataframe thead th {\n",
       "        text-align: right;\n",
       "    }\n",
       "</style>\n",
       "<table border=\"1\" class=\"dataframe\">\n",
       "  <thead>\n",
       "    <tr style=\"text-align: right;\">\n",
       "      <th></th>\n",
       "      <th>encoded_value</th>\n",
       "      <th>labels</th>\n",
       "    </tr>\n",
       "  </thead>\n",
       "  <tbody>\n",
       "    <tr>\n",
       "      <th>0</th>\n",
       "      <td>11</td>\n",
       "      <td>Sugar beet</td>\n",
       "    </tr>\n",
       "    <tr>\n",
       "      <th>1</th>\n",
       "      <td>1</td>\n",
       "      <td>Charlock</td>\n",
       "    </tr>\n",
       "    <tr>\n",
       "      <th>2</th>\n",
       "      <td>5</td>\n",
       "      <td>Fat Hen</td>\n",
       "    </tr>\n",
       "    <tr>\n",
       "      <th>3</th>\n",
       "      <td>10</td>\n",
       "      <td>Small-flowered Cranesbill</td>\n",
       "    </tr>\n",
       "    <tr>\n",
       "      <th>5</th>\n",
       "      <td>6</td>\n",
       "      <td>Loose Silky-bent</td>\n",
       "    </tr>\n",
       "    <tr>\n",
       "      <th>8</th>\n",
       "      <td>0</td>\n",
       "      <td>Black-grass</td>\n",
       "    </tr>\n",
       "    <tr>\n",
       "      <th>10</th>\n",
       "      <td>3</td>\n",
       "      <td>Common Chickweed</td>\n",
       "    </tr>\n",
       "    <tr>\n",
       "      <th>14</th>\n",
       "      <td>8</td>\n",
       "      <td>Scentless Mayweed</td>\n",
       "    </tr>\n",
       "    <tr>\n",
       "      <th>17</th>\n",
       "      <td>9</td>\n",
       "      <td>Shepherds Purse</td>\n",
       "    </tr>\n",
       "    <tr>\n",
       "      <th>18</th>\n",
       "      <td>4</td>\n",
       "      <td>Common wheat</td>\n",
       "    </tr>\n",
       "    <tr>\n",
       "      <th>19</th>\n",
       "      <td>7</td>\n",
       "      <td>Maize</td>\n",
       "    </tr>\n",
       "    <tr>\n",
       "      <th>20</th>\n",
       "      <td>2</td>\n",
       "      <td>Cleavers</td>\n",
       "    </tr>\n",
       "  </tbody>\n",
       "</table>\n",
       "</div>"
      ],
      "text/plain": [
       "    encoded_value                     labels\n",
       "0              11                 Sugar beet\n",
       "1               1                   Charlock\n",
       "2               5                    Fat Hen\n",
       "3              10  Small-flowered Cranesbill\n",
       "5               6           Loose Silky-bent\n",
       "8               0                Black-grass\n",
       "10              3           Common Chickweed\n",
       "14              8          Scentless Mayweed\n",
       "17              9            Shepherds Purse\n",
       "18              4               Common wheat\n",
       "19              7                      Maize\n",
       "20              2                   Cleavers"
      ]
     },
     "execution_count": 16,
     "metadata": {},
     "output_type": "execute_result"
    }
   ],
   "source": [
    "Label_values"
   ]
  },
  {
   "cell_type": "markdown",
   "metadata": {
    "id": "neVZdhalydz5"
   },
   "source": [
    "**Converting to categorical data**"
   ]
  },
  {
   "cell_type": "code",
   "execution_count": 17,
   "metadata": {
    "id": "lb2dh8dELFTy"
   },
   "outputs": [],
   "source": [
    "from tensorflow.keras.utils import to_categorical\n",
    "y=to_categorical(seed_encoded,num_classes=None,dtype='int')"
   ]
  },
  {
   "cell_type": "code",
   "execution_count": 82,
   "metadata": {
    "colab": {
     "base_uri": "https://localhost:8080/"
    },
    "id": "1Q3IyG4kVr4b",
    "outputId": "d25553f9-08ba-4075-b414-38fe5b3db187"
   },
   "outputs": [
    {
     "data": {
      "text/plain": [
       "array([0, 0, 0, 0, 0, 0, 0, 0, 0, 0, 0, 1])"
      ]
     },
     "execution_count": 82,
     "metadata": {},
     "output_type": "execute_result"
    }
   ],
   "source": [
    "y[0]"
   ]
  },
  {
   "cell_type": "markdown",
   "metadata": {
    "id": "HxJ34VldGpwN"
   },
   "source": [
    "##Supervised Learning"
   ]
  },
  {
   "cell_type": "markdown",
   "metadata": {
    "id": "sX9FeZVRyxL0"
   },
   "source": [
    "**Flattening the each image data to train supervised model**"
   ]
  },
  {
   "cell_type": "code",
   "execution_count": 18,
   "metadata": {
    "id": "YlVjTP6KHD_X"
   },
   "outputs": [],
   "source": [
    "x_flatten=[]\n",
    "for k in range(len(X_raw)):\n",
    "  x_flatten.append(X_raw[k].flatten())"
   ]
  },
  {
   "cell_type": "code",
   "execution_count": 19,
   "metadata": {
    "colab": {
     "base_uri": "https://localhost:8080/"
    },
    "id": "901H3FnSMig-",
    "outputId": "ebcda4ec-2126-4c53-8001-6280c1fc4788"
   },
   "outputs": [
    {
     "data": {
      "text/plain": [
       "array([0.17254902, 0.24313725, 0.32941176, ..., 0.20784314, 0.19215686,\n",
       "       0.22352941])"
      ]
     },
     "execution_count": 19,
     "metadata": {},
     "output_type": "execute_result"
    }
   ],
   "source": [
    "x_flatten=np.array(x_flatten)\n",
    "x_flatten[0]"
   ]
  },
  {
   "cell_type": "markdown",
   "metadata": {
    "id": "MCurNvuRzJos"
   },
   "source": [
    "**Splitting into Train and test data**"
   ]
  },
  {
   "cell_type": "code",
   "execution_count": 20,
   "metadata": {
    "id": "w0NMwvifNB-U"
   },
   "outputs": [],
   "source": [
    "x_train,x_val,y_train,y_val=train_test_split(x_flatten,seed_encoded,test_size=0.3,random_state=0)"
   ]
  },
  {
   "cell_type": "code",
   "execution_count": 21,
   "metadata": {
    "colab": {
     "base_uri": "https://localhost:8080/"
    },
    "id": "PuZf4QYVPGOZ",
    "outputId": "0e8b25d8-3c91-4bef-c54a-37260b57bcd0"
   },
   "outputs": [
    {
     "name": "stdout",
     "output_type": "stream",
     "text": [
      "(3336, 49152) (3336,)\n"
     ]
    }
   ],
   "source": [
    "print(x_train.shape,y_train.shape)"
   ]
  },
  {
   "cell_type": "markdown",
   "metadata": {
    "id": "TdGayBmMzPIe"
   },
   "source": [
    "**Logistic regresion model**"
   ]
  },
  {
   "cell_type": "code",
   "execution_count": null,
   "metadata": {
    "id": "W-64__K3Nf71"
   },
   "outputs": [],
   "source": [
    "from sklearn.linear_model import LogisticRegression\n",
    "from sklearn.metrics import accuracy_score\n",
    "log_model=LogisticRegression(multi_class='ovr',random_state=0,max_iter=10000)\n",
    "log_model.fit(x_train,y_train)"
   ]
  },
  {
   "cell_type": "code",
   "execution_count": 30,
   "metadata": {
    "colab": {
     "base_uri": "https://localhost:8080/"
    },
    "id": "U-lZnWfHPkkE",
    "outputId": "f424457f-513a-4864-b902-911b53516f63"
   },
   "outputs": [
    {
     "name": "stdout",
     "output_type": "stream",
     "text": [
      "0.9973021582733813\n"
     ]
    }
   ],
   "source": [
    "print(\"Train accuracy:\",accuracy_score(y_train, log_model.predict(x_train)))"
   ]
  },
  {
   "cell_type": "code",
   "execution_count": 31,
   "metadata": {
    "colab": {
     "base_uri": "https://localhost:8080/"
    },
    "id": "-qDyiIklbRMg",
    "outputId": "0e95de7c-1565-4a9f-df35-4950d84a8969"
   },
   "outputs": [
    {
     "name": "stdout",
     "output_type": "stream",
     "text": [
      "0.4479385045422781\n"
     ]
    }
   ],
   "source": [
    "print(\"Test accuracy:\"accuracy_score(y_val, log_model.predict(x_val)))"
   ]
  },
  {
   "cell_type": "markdown",
   "metadata": {
    "id": "-1j97HqUzXoU"
   },
   "source": [
    "Train accuracy is more, but test accuracy is less. So it is overfit"
   ]
  },
  {
   "cell_type": "code",
   "execution_count": 22,
   "metadata": {
    "id": "AwsEJ5_pffvi"
   },
   "outputs": [],
   "source": [
    "#from xgboost import XGBClassifier\n",
    "#xgb_model=XGBClassifier(learning_rate=0.01)\n",
    "#xgb_model.fit(x_train,y_train)"
   ]
  },
  {
   "cell_type": "code",
   "execution_count": null,
   "metadata": {
    "id": "lfc5QERDf_EZ"
   },
   "outputs": [],
   "source": [
    "#Train and test accuracy\n",
    "#print(\"Train accuracy:\",accuracy_score(y_train, xgb_model.predict(x_train)))\n",
    "#print(\"Test accuracy:\"accuracy_score(y_val, xgb_model.predict(x_val)))"
   ]
  },
  {
   "cell_type": "markdown",
   "metadata": {
    "id": "RwqnaeF6GsMU"
   },
   "source": [
    "**Using Neural Networks**"
   ]
  },
  {
   "cell_type": "code",
   "execution_count": 19,
   "metadata": {
    "id": "yGh3Rdg_GrWs"
   },
   "outputs": [],
   "source": [
    "from tensorflow.keras.models import Sequential\n",
    "from tensorflow.keras.layers import Dense,Flatten\n",
    "from tensorflow.keras import regularizers, optimizers"
   ]
  },
  {
   "cell_type": "code",
   "execution_count": 20,
   "metadata": {
    "id": "YQXAW0oGJuqL"
   },
   "outputs": [],
   "source": [
    "#Converting the output values to categorical data\n",
    "y_train=to_categorical(y_train,num_classes=None,dtype='int')\n",
    "y_val=to_categorical(y_val,num_classes=None,dtype='int')"
   ]
  },
  {
   "cell_type": "code",
   "execution_count": 21,
   "metadata": {
    "id": "HERVdSUBHWf2"
   },
   "outputs": [],
   "source": [
    "model=Sequential()\n",
    "\n",
    "#flattening the inputs array\n",
    "model.add(Flatten())\n",
    "\n",
    "#Adding the dense layers with activation as relu\n",
    "model.add(Dense(512,activation='relu'))\n",
    "model.add(Dense(128,activation='relu'))\n",
    "model.add(Dense(64,activation='relu'))\n",
    "\n",
    "#Adding the softmax as activation in the last layer\n",
    "model.add(Dense(12,activation='softmax'))\n",
    "sgd=optimizers.Adam(learning_rate=1e-4)\n",
    "model.compile(loss='categorical_crossentropy',optimizer='Adam',metrics=['accuracy'])"
   ]
  },
  {
   "cell_type": "code",
   "execution_count": 22,
   "metadata": {
    "colab": {
     "base_uri": "https://localhost:8080/"
    },
    "id": "lb_LNAYMM_gs",
    "outputId": "ebee3c77-34c6-49dd-a848-0ad74d0c4387"
   },
   "outputs": [
    {
     "name": "stdout",
     "output_type": "stream",
     "text": [
      "Epoch 1/30\n",
      "105/105 [==============================] - 18s 160ms/step - loss: 3.7228 - accuracy: 0.1262 - val_loss: 2.9310 - val_accuracy: 0.0957\n",
      "Epoch 2/30\n",
      "105/105 [==============================] - 16s 155ms/step - loss: 2.3861 - accuracy: 0.2212 - val_loss: 2.2467 - val_accuracy: 0.2355\n",
      "Epoch 3/30\n",
      "105/105 [==============================] - 17s 158ms/step - loss: 2.1598 - accuracy: 0.2530 - val_loss: 2.1307 - val_accuracy: 0.2739\n",
      "Epoch 4/30\n",
      "105/105 [==============================] - 16s 155ms/step - loss: 2.0553 - accuracy: 0.3022 - val_loss: 2.0413 - val_accuracy: 0.3354\n",
      "Epoch 5/30\n",
      "105/105 [==============================] - 16s 155ms/step - loss: 1.9769 - accuracy: 0.3231 - val_loss: 1.9622 - val_accuracy: 0.2984\n",
      "Epoch 6/30\n",
      "105/105 [==============================] - 16s 155ms/step - loss: 1.9272 - accuracy: 0.3288 - val_loss: 1.9972 - val_accuracy: 0.3089\n",
      "Epoch 7/30\n",
      "105/105 [==============================] - 16s 156ms/step - loss: 1.7363 - accuracy: 0.4086 - val_loss: 2.2643 - val_accuracy: 0.2397\n",
      "Epoch 8/30\n",
      "105/105 [==============================] - 16s 156ms/step - loss: 1.6258 - accuracy: 0.4299 - val_loss: 2.0278 - val_accuracy: 0.3159\n",
      "Epoch 9/30\n",
      "105/105 [==============================] - 17s 157ms/step - loss: 1.5863 - accuracy: 0.4397 - val_loss: 1.7030 - val_accuracy: 0.4102\n",
      "Epoch 10/30\n",
      "105/105 [==============================] - 16s 155ms/step - loss: 1.5664 - accuracy: 0.4496 - val_loss: 1.5914 - val_accuracy: 0.4284\n",
      "Epoch 11/30\n",
      "105/105 [==============================] - 16s 155ms/step - loss: 1.4919 - accuracy: 0.4697 - val_loss: 1.6206 - val_accuracy: 0.4319\n",
      "Epoch 12/30\n",
      "105/105 [==============================] - 16s 156ms/step - loss: 1.3948 - accuracy: 0.5066 - val_loss: 1.6832 - val_accuracy: 0.4102\n",
      "Epoch 13/30\n",
      "105/105 [==============================] - 16s 156ms/step - loss: 1.2740 - accuracy: 0.5662 - val_loss: 1.6908 - val_accuracy: 0.4018\n",
      "Epoch 14/30\n",
      "105/105 [==============================] - 16s 155ms/step - loss: 1.2740 - accuracy: 0.5468 - val_loss: 1.5637 - val_accuracy: 0.4675\n",
      "Epoch 15/30\n",
      "105/105 [==============================] - 16s 155ms/step - loss: 1.2089 - accuracy: 0.5800 - val_loss: 1.8325 - val_accuracy: 0.4018\n",
      "Epoch 16/30\n",
      "105/105 [==============================] - 16s 156ms/step - loss: 1.2141 - accuracy: 0.5629 - val_loss: 1.4216 - val_accuracy: 0.5122\n",
      "Epoch 17/30\n",
      "105/105 [==============================] - 16s 156ms/step - loss: 1.1079 - accuracy: 0.6076 - val_loss: 2.0667 - val_accuracy: 0.3997\n",
      "Epoch 18/30\n",
      "105/105 [==============================] - 16s 156ms/step - loss: 1.1686 - accuracy: 0.5845 - val_loss: 1.6538 - val_accuracy: 0.4661\n",
      "Epoch 19/30\n",
      "105/105 [==============================] - 16s 155ms/step - loss: 1.0643 - accuracy: 0.6337 - val_loss: 1.6447 - val_accuracy: 0.4612\n",
      "Epoch 20/30\n",
      "105/105 [==============================] - 16s 156ms/step - loss: 1.0859 - accuracy: 0.6103 - val_loss: 1.4966 - val_accuracy: 0.4787\n",
      "Epoch 21/30\n",
      "105/105 [==============================] - 16s 155ms/step - loss: 1.0786 - accuracy: 0.6214 - val_loss: 1.5999 - val_accuracy: 0.4717\n",
      "Epoch 22/30\n",
      "105/105 [==============================] - 16s 157ms/step - loss: 1.0106 - accuracy: 0.6409 - val_loss: 1.5688 - val_accuracy: 0.4920\n",
      "Epoch 23/30\n",
      "105/105 [==============================] - 16s 157ms/step - loss: 0.8987 - accuracy: 0.6891 - val_loss: 1.5361 - val_accuracy: 0.5010\n",
      "Epoch 24/30\n",
      "105/105 [==============================] - 16s 156ms/step - loss: 0.8961 - accuracy: 0.6781 - val_loss: 1.8815 - val_accuracy: 0.4144\n",
      "Epoch 25/30\n",
      "105/105 [==============================] - 16s 156ms/step - loss: 0.8971 - accuracy: 0.6876 - val_loss: 1.4535 - val_accuracy: 0.5262\n",
      "Epoch 26/30\n",
      "105/105 [==============================] - 16s 157ms/step - loss: 0.8394 - accuracy: 0.7074 - val_loss: 1.5486 - val_accuracy: 0.4913\n",
      "Epoch 27/30\n",
      "105/105 [==============================] - 16s 156ms/step - loss: 0.9112 - accuracy: 0.6691 - val_loss: 1.5753 - val_accuracy: 0.5129\n",
      "Epoch 28/30\n",
      "105/105 [==============================] - 16s 157ms/step - loss: 0.7614 - accuracy: 0.7299 - val_loss: 1.8859 - val_accuracy: 0.4396\n",
      "Epoch 29/30\n",
      "105/105 [==============================] - 17s 157ms/step - loss: 0.7654 - accuracy: 0.7242 - val_loss: 1.8436 - val_accuracy: 0.4340\n",
      "Epoch 30/30\n",
      "105/105 [==============================] - 16s 157ms/step - loss: 0.8170 - accuracy: 0.7149 - val_loss: 1.8379 - val_accuracy: 0.4437\n"
     ]
    }
   ],
   "source": [
    "model_hist=model.fit(x_train,y_train,epochs=30,batch_size=32,validation_data=(x_val,y_val),verbose=1)"
   ]
  },
  {
   "cell_type": "code",
   "execution_count": 23,
   "metadata": {
    "colab": {
     "base_uri": "https://localhost:8080/"
    },
    "id": "5TEcXM3ORKRI",
    "outputId": "6d7efe94-b102-4d79-a919-4009b24722be"
   },
   "outputs": [
    {
     "name": "stdout",
     "output_type": "stream",
     "text": [
      "Train_score: [0.987899899482727, 0.6115108132362366] \n",
      "Test_score: [1.8379061222076416, 0.4437456429004669]\n"
     ]
    }
   ],
   "source": [
    "train_score=model.evaluate(x_train,y_train,verbose=0)\n",
    "test_score=model.evaluate(x_val,y_val,verbose=0)\n",
    "print(\"Train_score:\",train_score,\"\\nTest_score:\",test_score)"
   ]
  },
  {
   "cell_type": "markdown",
   "metadata": {
    "id": "swFI-ktSUk9Z"
   },
   "source": [
    "The training accuracy and test accuracy are increased compared to supervised learning scores"
   ]
  },
  {
   "cell_type": "markdown",
   "metadata": {
    "id": "KJkhZpysTu4N"
   },
   "source": [
    "**Using CNN**"
   ]
  },
  {
   "cell_type": "code",
   "execution_count": 24,
   "metadata": {
    "id": "e_J8zSHHfxuC"
   },
   "outputs": [],
   "source": [
    "x_train,x_val,y_train,y_val=train_test_split(x_flatten,y,test_size=0.3,random_state=0)"
   ]
  },
  {
   "cell_type": "code",
   "execution_count": 25,
   "metadata": {
    "id": "14SbzcBxTxxY"
   },
   "outputs": [],
   "source": [
    "from tensorflow.keras.layers import Conv2D,Dropout,MaxPooling2D\n",
    "\n",
    "model1=Sequential()\n",
    "\n",
    "#Adding the convolution layer and max pool layers\n",
    "model1.add(Conv2D(32,kernel_size=3,activation='relu',input_shape=(128,128,3)))\n",
    "model1.add(MaxPooling2D(pool_size=2))\n",
    "\n",
    "model1.add(Conv2D(32,kernel_size=3,activation='relu',padding='same'))\n",
    "model1.add(MaxPooling2D(pool_size=2))\n",
    "\n",
    "model1.add(Conv2D(64,kernel_size=3,activation='relu',padding='same'))\n",
    "model1.add(MaxPooling2D(pool_size=2))\n",
    "#model1.add(Dropout(0.2))\n",
    "\n",
    "#Flattening the inputs before passing to neural network\n",
    "model1.add(Flatten())\n",
    "\n",
    "\n",
    "model1.add(Dense(512,activation='relu'))\n",
    "model1.add(Dropout(0.5))\n",
    "\n",
    "model1.add(Dense(128,activation='relu'))\n",
    "model1.add(Dropout(0.5))\n",
    "\n",
    "model1.add(Dense(12,activation='softmax'))"
   ]
  },
  {
   "cell_type": "code",
   "execution_count": 26,
   "metadata": {
    "id": "yMANEPpLc9JV"
   },
   "outputs": [],
   "source": [
    "model1.compile(loss='categorical_crossentropy',optimizer='Adam',metrics=['accuracy'])"
   ]
  },
  {
   "cell_type": "code",
   "execution_count": 27,
   "metadata": {
    "id": "r_cvaFitqS71"
   },
   "outputs": [],
   "source": [
    "x_train=x_train.reshape(x_train.shape[0],128,128,3)\n",
    "x_val=x_val.reshape(x_val.shape[0],128,128,3)"
   ]
  },
  {
   "cell_type": "code",
   "execution_count": 28,
   "metadata": {
    "colab": {
     "base_uri": "https://localhost:8080/"
    },
    "id": "tmbEnZdVFZoN",
    "outputId": "d4ced1f2-a48f-4d8a-f922-29d30e8b4735"
   },
   "outputs": [
    {
     "data": {
      "text/plain": [
       "(3336, 128, 128, 3)"
      ]
     },
     "execution_count": 28,
     "metadata": {},
     "output_type": "execute_result"
    }
   ],
   "source": [
    "#Checking the input shape\n",
    "x_train.shape"
   ]
  },
  {
   "cell_type": "code",
   "execution_count": 29,
   "metadata": {
    "colab": {
     "base_uri": "https://localhost:8080/"
    },
    "id": "a0CaxAd6dBER",
    "outputId": "e28139de-a371-43d6-8d13-c390c7cbee64"
   },
   "outputs": [
    {
     "name": "stdout",
     "output_type": "stream",
     "text": [
      "Epoch 1/20\n",
      "53/53 [==============================] - 74s 1s/step - loss: 2.4489 - accuracy: 0.1322 - val_loss: 2.3783 - val_accuracy: 0.1572\n",
      "Epoch 2/20\n",
      "53/53 [==============================] - 72s 1s/step - loss: 2.1510 - accuracy: 0.2626 - val_loss: 1.7512 - val_accuracy: 0.3864\n",
      "Epoch 3/20\n",
      "53/53 [==============================] - 72s 1s/step - loss: 1.7239 - accuracy: 0.3966 - val_loss: 1.7233 - val_accuracy: 0.4228\n",
      "Epoch 4/20\n",
      "53/53 [==============================] - 72s 1s/step - loss: 1.4767 - accuracy: 0.4997 - val_loss: 1.1508 - val_accuracy: 0.6024\n",
      "Epoch 5/20\n",
      "53/53 [==============================] - 73s 1s/step - loss: 1.2641 - accuracy: 0.5650 - val_loss: 1.0536 - val_accuracy: 0.6576\n",
      "Epoch 6/20\n",
      "53/53 [==============================] - 74s 1s/step - loss: 1.1546 - accuracy: 0.5959 - val_loss: 0.9953 - val_accuracy: 0.6548\n",
      "Epoch 7/20\n",
      "53/53 [==============================] - 73s 1s/step - loss: 1.0529 - accuracy: 0.6400 - val_loss: 0.8786 - val_accuracy: 0.7023\n",
      "Epoch 8/20\n",
      "53/53 [==============================] - 73s 1s/step - loss: 0.9376 - accuracy: 0.6799 - val_loss: 0.9250 - val_accuracy: 0.7037\n",
      "Epoch 9/20\n",
      "53/53 [==============================] - 72s 1s/step - loss: 0.8993 - accuracy: 0.6874 - val_loss: 0.8944 - val_accuracy: 0.7058\n",
      "Epoch 10/20\n",
      "53/53 [==============================] - 73s 1s/step - loss: 0.8121 - accuracy: 0.7170 - val_loss: 0.8797 - val_accuracy: 0.7093\n",
      "Epoch 11/20\n",
      "53/53 [==============================] - 73s 1s/step - loss: 0.7161 - accuracy: 0.7533 - val_loss: 0.7207 - val_accuracy: 0.7680\n",
      "Epoch 12/20\n",
      "53/53 [==============================] - 73s 1s/step - loss: 0.6115 - accuracy: 0.7926 - val_loss: 0.7583 - val_accuracy: 0.7575\n",
      "Epoch 13/20\n",
      "53/53 [==============================] - 73s 1s/step - loss: 0.5943 - accuracy: 0.7992 - val_loss: 1.0105 - val_accuracy: 0.7198\n",
      "Epoch 14/20\n",
      "53/53 [==============================] - 72s 1s/step - loss: 0.6268 - accuracy: 0.7803 - val_loss: 0.6423 - val_accuracy: 0.8001\n",
      "Epoch 15/20\n",
      "53/53 [==============================] - 72s 1s/step - loss: 0.4657 - accuracy: 0.8357 - val_loss: 0.6201 - val_accuracy: 0.8092\n",
      "Epoch 16/20\n",
      "53/53 [==============================] - 73s 1s/step - loss: 0.4622 - accuracy: 0.8390 - val_loss: 0.6113 - val_accuracy: 0.8015\n",
      "Epoch 17/20\n",
      "53/53 [==============================] - 72s 1s/step - loss: 0.3840 - accuracy: 0.8585 - val_loss: 0.6358 - val_accuracy: 0.8134\n",
      "Epoch 18/20\n",
      "53/53 [==============================] - 73s 1s/step - loss: 0.3867 - accuracy: 0.8663 - val_loss: 0.6273 - val_accuracy: 0.8246\n",
      "Epoch 19/20\n",
      "53/53 [==============================] - 73s 1s/step - loss: 0.3482 - accuracy: 0.8795 - val_loss: 0.6968 - val_accuracy: 0.8113\n",
      "Epoch 20/20\n",
      "53/53 [==============================] - 72s 1s/step - loss: 0.3171 - accuracy: 0.8912 - val_loss: 0.6800 - val_accuracy: 0.7966\n"
     ]
    }
   ],
   "source": [
    "model1_hist=model1.fit(x_train,y_train,batch_size=64,epochs=20,validation_data=(x_val,y_val),initial_epoch=0)"
   ]
  },
  {
   "cell_type": "code",
   "execution_count": 30,
   "metadata": {
    "colab": {
     "base_uri": "https://localhost:8080/"
    },
    "id": "OFwGVetkh2SP",
    "outputId": "7d470dcc-5045-4e42-b8e6-046bde6ae5a4"
   },
   "outputs": [
    {
     "name": "stdout",
     "output_type": "stream",
     "text": [
      "Train_score: [0.128966823220253, 0.9532374143600464] \n",
      "Test_score: [0.6799948811531067, 0.7966457009315491]\n"
     ]
    }
   ],
   "source": [
    "train_score=model1.evaluate(x_train,y_train,verbose=0)\n",
    "test_score=model1.evaluate(x_val,y_val,verbose=0)\n",
    "print(\"Train_score:\",train_score,\"\\nTest_score:\",test_score)"
   ]
  },
  {
   "cell_type": "markdown",
   "metadata": {
    "id": "izfGgdiI6QeT"
   },
   "source": [
    "**Pickling the model**"
   ]
  },
  {
   "cell_type": "code",
   "execution_count": 32,
   "metadata": {
    "colab": {
     "base_uri": "https://localhost:8080/"
    },
    "id": "38Utd_p33i-x",
    "outputId": "46583e75-a516-41d7-de81-56dad0df9e9e"
   },
   "outputs": [
    {
     "name": "stdout",
     "output_type": "stream",
     "text": [
      "Saved to disk\n"
     ]
    }
   ],
   "source": [
    "#Serialize model to json\n",
    "from tensorflow.keras.models import model_from_json\n",
    "model_json=model1.to_json()\n",
    "with open(\"Model1.json\",\"w\") as json_file:\n",
    "  json_file.write(model_json)\n",
    "\n",
    "#Serialize weights to h5\n",
    "model1.save_weights(\"model1.h5\")\n",
    "print(\"Saved to disk\")"
   ]
  },
  {
   "cell_type": "markdown",
   "metadata": {
    "id": "Dz-JjQC_6V9m"
   },
   "source": [
    "**Predicting the image**"
   ]
  },
  {
   "cell_type": "code",
   "execution_count": 35,
   "metadata": {
    "id": "puGY-p2invOv"
   },
   "outputs": [],
   "source": [
    "Test_image_path=\"/content/gdrive/MyDrive/Colab Notebooks/CV_Notebooks/Prediction/Predict.png\"\n",
    "Test_image=cv2.imread(Test_image_path,cv2.IMREAD_COLOR)\n",
    "\n",
    "Test_image_resized=cv2.resize(Test_image,(img_rows,img_cols))"
   ]
  },
  {
   "cell_type": "code",
   "execution_count": 36,
   "metadata": {
    "id": "7_MXEHin1p4V"
   },
   "outputs": [],
   "source": [
    "Test_array=np.array(Test_image_resized)"
   ]
  },
  {
   "cell_type": "code",
   "execution_count": 40,
   "metadata": {
    "id": "BWPMVOTz450r"
   },
   "outputs": [],
   "source": [
    "Test_array=Test_array.reshape(1,128,128,3)"
   ]
  },
  {
   "cell_type": "code",
   "execution_count": 41,
   "metadata": {
    "colab": {
     "base_uri": "https://localhost:8080/"
    },
    "id": "MOj690Cdou_I",
    "outputId": "10f47e1d-f81c-4a4a-8620-ebac55d28aba"
   },
   "outputs": [
    {
     "data": {
      "text/plain": [
       "array([[0., 0., 0., 1., 0., 0., 0., 0., 0., 0., 0., 0.]], dtype=float32)"
      ]
     },
     "execution_count": 41,
     "metadata": {},
     "output_type": "execute_result"
    }
   ],
   "source": [
    "model1.predict(Test_array)"
   ]
  },
  {
   "cell_type": "markdown",
   "metadata": {
    "id": "I1bktUXm65lK"
   },
   "source": [
    "As per the model, Common Chikweed is predicted"
   ]
  }
 ],
 "metadata": {
  "colab": {
   "collapsed_sections": [],
   "name": "Untitled1.ipynb",
   "provenance": []
  },
  "kernelspec": {
   "display_name": "Python 3",
   "language": "python",
   "name": "python3"
  },
  "language_info": {
   "codemirror_mode": {
    "name": "ipython",
    "version": 3
   },
   "file_extension": ".py",
   "mimetype": "text/x-python",
   "name": "python",
   "nbconvert_exporter": "python",
   "pygments_lexer": "ipython3",
   "version": "3.7.10"
  }
 },
 "nbformat": 4,
 "nbformat_minor": 1
}
